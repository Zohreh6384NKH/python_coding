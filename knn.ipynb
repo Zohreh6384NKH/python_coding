{
 "cells": [
  {
   "cell_type": "code",
   "execution_count": 1,
   "id": "8dc39fe4-7563-48cb-9845-d708344158c8",
   "metadata": {},
   "outputs": [
    {
     "data": {
      "text/plain": [
       "[7, 6, 5, 4, 3]"
      ]
     },
     "execution_count": 1,
     "metadata": {},
     "output_type": "execute_result"
    }
   ],
   "source": [
    "# knn classifies the data point based on how their are classified\n",
    "\n",
    "x = [3,4,5,6,7]\n",
    "x[::-1]"
   ]
  },
  {
   "cell_type": "code",
   "execution_count": 2,
   "id": "b048de0b-a985-4ed7-aa42-8b26f1c61b03",
   "metadata": {},
   "outputs": [
    {
     "data": {
      "text/plain": [
       "[3, 4, 5, 6]"
      ]
     },
     "execution_count": 2,
     "metadata": {},
     "output_type": "execute_result"
    }
   ],
   "source": [
    "x[:-1]"
   ]
  },
  {
   "cell_type": "code",
   "execution_count": 3,
   "id": "59055cb1-c970-464d-80a0-e969c155d05b",
   "metadata": {},
   "outputs": [
    {
     "data": {
      "text/plain": [
       "[3, 4, 5]"
      ]
     },
     "execution_count": 3,
     "metadata": {},
     "output_type": "execute_result"
    }
   ],
   "source": [
    "x[:-2]"
   ]
  },
  {
   "cell_type": "code",
   "execution_count": 6,
   "id": "94731677-ec1f-4e1e-92e5-90e03f09d2e6",
   "metadata": {},
   "outputs": [
    {
     "name": "stdout",
     "output_type": "stream",
     "text": [
      "3\n",
      "4\n",
      "5\n"
     ]
    }
   ],
   "source": [
    "for i in x[:-2]:\n",
    "    \n",
    "    \n",
    "    print(i)"
   ]
  },
  {
   "cell_type": "code",
   "execution_count": 9,
   "id": "4243d2f4-35a9-4d56-9993-94f2ae2207b1",
   "metadata": {},
   "outputs": [
    {
     "ename": "TypeError",
     "evalue": "list indices must be integers or slices, not tuple",
     "output_type": "error",
     "traceback": [
      "\u001b[31m---------------------------------------------------------------------------\u001b[39m",
      "\u001b[31mTypeError\u001b[39m                                 Traceback (most recent call last)",
      "\u001b[36mCell\u001b[39m\u001b[36m \u001b[39m\u001b[32mIn[9]\u001b[39m\u001b[32m, line 1\u001b[39m\n\u001b[32m----> \u001b[39m\u001b[32m1\u001b[39m \u001b[43mx\u001b[49m\u001b[43m[\u001b[49m\u001b[43m:\u001b[49m\u001b[43m-\u001b[49m\u001b[32;43m2\u001b[39;49m\u001b[43m,\u001b[49m\u001b[43m:\u001b[49m\u001b[43m:\u001b[49m\u001b[43m-\u001b[49m\u001b[32;43m1\u001b[39;49m\u001b[43m]\u001b[49m\n",
      "\u001b[31mTypeError\u001b[39m: list indices must be integers or slices, not tuple"
     ]
    }
   ],
   "source": [
    "x[::-1]"
   ]
  },
  {
   "cell_type": "code",
   "execution_count": 8,
   "id": "2b58770c-39b1-4d5a-82f7-480c781743bd",
   "metadata": {},
   "outputs": [
    {
     "data": {
      "text/plain": [
       "[7, 6, 5, 4, 3]"
      ]
     },
     "execution_count": 8,
     "metadata": {},
     "output_type": "execute_result"
    }
   ],
   "source": [
    "x[::-1]"
   ]
  },
  {
   "cell_type": "code",
   "execution_count": 11,
   "id": "17bb1115-6769-4172-8d02-05087c1327e7",
   "metadata": {},
   "outputs": [
    {
     "data": {
      "text/plain": [
       "[3, 4, 5]"
      ]
     },
     "execution_count": 11,
     "metadata": {},
     "output_type": "execute_result"
    }
   ],
   "source": [
    "x[:-2]"
   ]
  },
  {
   "cell_type": "code",
   "execution_count": 12,
   "id": "8785d74a-be6d-4157-b3ce-2b062523579d",
   "metadata": {},
   "outputs": [
    {
     "data": {
      "text/plain": [
       "[7]"
      ]
     },
     "execution_count": 12,
     "metadata": {},
     "output_type": "execute_result"
    }
   ],
   "source": [
    "x[4:]"
   ]
  },
  {
   "cell_type": "code",
   "execution_count": 13,
   "id": "662ae8ed-be97-4515-8249-8579de7757b4",
   "metadata": {},
   "outputs": [
    {
     "data": {
      "text/plain": [
       "7"
      ]
     },
     "execution_count": 13,
     "metadata": {},
     "output_type": "execute_result"
    }
   ],
   "source": [
    "x[4]"
   ]
  },
  {
   "cell_type": "code",
   "execution_count": 14,
   "id": "162b7515-254c-47ed-9a5e-da8fcaa11968",
   "metadata": {},
   "outputs": [
    {
     "data": {
      "text/plain": [
       "[6, 7]"
      ]
     },
     "execution_count": 14,
     "metadata": {},
     "output_type": "execute_result"
    }
   ],
   "source": [
    "x[3:]"
   ]
  },
  {
   "cell_type": "code",
   "execution_count": 19,
   "id": "0a194caf-1843-43b3-9061-dc374445959e",
   "metadata": {},
   "outputs": [
    {
     "data": {
      "text/plain": [
       "array([6.        , 6.        , 2.44948974, 2.44948974, 2.44948974,\n",
       "       2.44948974])"
      ]
     },
     "execution_count": 19,
     "metadata": {},
     "output_type": "execute_result"
    }
   ],
   "source": [
    "import numpy as np\n",
    "x_1 = [1,1,1,1,1,1]\n",
    "x_2 = [1,1,2,2,2,2]\n",
    "d = np.linalg.norm(x_1, x_2)\n",
    "d\n"
   ]
  },
  {
   "cell_type": "code",
   "execution_count": 26,
   "id": "a2ad2ca5-7fa0-4dbc-bfc6-611a33eb6f09",
   "metadata": {},
   "outputs": [
    {
     "data": {
      "text/plain": [
       "array([2, 3, 4, 5, 1, 0])"
      ]
     },
     "execution_count": 26,
     "metadata": {},
     "output_type": "execute_result"
    }
   ],
   "source": [
    "x = np.array([9,7,3,4,5,6])\n",
    "x.argsort()"
   ]
  },
  {
   "cell_type": "code",
   "execution_count": 27,
   "id": "4dfdcf6f-a22c-4c4f-831e-54d6d8bbe494",
   "metadata": {},
   "outputs": [
    {
     "data": {
      "text/plain": [
       "array([2, 3])"
      ]
     },
     "execution_count": 27,
     "metadata": {},
     "output_type": "execute_result"
    }
   ],
   "source": [
    "x.argsort()[:2]"
   ]
  },
  {
   "cell_type": "code",
   "execution_count": 28,
   "id": "73e27ee0-a43c-46a3-b7b8-56ab9cb4db83",
   "metadata": {},
   "outputs": [
    {
     "data": {
      "text/plain": [
       "array([2, 3, 4, 5, 1, 0])"
      ]
     },
     "execution_count": 28,
     "metadata": {},
     "output_type": "execute_result"
    }
   ],
   "source": [
    "np.argsort(x)"
   ]
  },
  {
   "cell_type": "code",
   "execution_count": 29,
   "id": "6e43e43e-2782-477f-a3ab-00dce8ef2c30",
   "metadata": {},
   "outputs": [
    {
     "data": {
      "text/plain": [
       "array([0, 1, 5, 4, 3, 2])"
      ]
     },
     "execution_count": 29,
     "metadata": {},
     "output_type": "execute_result"
    }
   ],
   "source": [
    "np.argsort(-x)"
   ]
  },
  {
   "cell_type": "code",
   "execution_count": 30,
   "id": "53bc2f27-a7d8-4f6b-9599-c2847c2f8121",
   "metadata": {},
   "outputs": [
    {
     "data": {
      "text/plain": [
       "array([0, 1, 5, 4, 3, 2])"
      ]
     },
     "execution_count": 30,
     "metadata": {},
     "output_type": "execute_result"
    }
   ],
   "source": [
    "np.argsort(x)[::-1]"
   ]
  },
  {
   "cell_type": "code",
   "execution_count": 31,
   "id": "b7753793-c9cf-4946-9de5-1c457095cd07",
   "metadata": {},
   "outputs": [
    {
     "data": {
      "text/plain": [
       "array([1, 1])"
      ]
     },
     "execution_count": 31,
     "metadata": {},
     "output_type": "execute_result"
    }
   ],
   "source": [
    "y_train = np.array([0, 1, 1, 0])\n",
    "indices = [1, 2]\n",
    "y_train[indices]"
   ]
  },
  {
   "cell_type": "code",
   "execution_count": 32,
   "id": "84051bc1-09fd-4b97-afa5-a701988bcffb",
   "metadata": {},
   "outputs": [
    {
     "data": {
      "text/plain": [
       "array([0, 1])"
      ]
     },
     "execution_count": 32,
     "metadata": {},
     "output_type": "execute_result"
    }
   ],
   "source": [
    "y_train[[0,1]]"
   ]
  },
  {
   "cell_type": "code",
   "execution_count": 35,
   "id": "8b097b25-6678-4457-920a-3cd16e25247d",
   "metadata": {},
   "outputs": [],
   "source": [
    "X_train = np.array([[1,2],\n",
    "                  [3,4],\n",
    "                  [5,5],\n",
    "                  [10,10]])\n",
    "\n",
    "y_train = np.array([0, 1, 1, 0])\n"
   ]
  },
  {
   "cell_type": "code",
   "execution_count": 37,
   "id": "39da6c8b-e9cf-4284-a0c1-389112f43b19",
   "metadata": {},
   "outputs": [
    {
     "data": {
      "text/plain": [
       "array([3.60555128, 1.        , 1.41421356, 8.48528137])"
      ]
     },
     "execution_count": 37,
     "metadata": {},
     "output_type": "execute_result"
    }
   ],
   "source": [
    "x_new = np.array([4,4])\n",
    "\n",
    "distance = np.linalg.norm(X_train - x_new, axis=1)\n",
    "distance"
   ]
  },
  {
   "cell_type": "code",
   "execution_count": 38,
   "id": "fde2933c-f5ce-4ec6-9e4f-0513e67bafed",
   "metadata": {},
   "outputs": [
    {
     "data": {
      "text/plain": [
       "array([1, 2, 0, 3])"
      ]
     },
     "execution_count": 38,
     "metadata": {},
     "output_type": "execute_result"
    }
   ],
   "source": [
    "np.argsort(distance)"
   ]
  },
  {
   "cell_type": "code",
   "execution_count": 41,
   "id": "02c20be1-aea7-4d22-b87d-ecab18b85bd9",
   "metadata": {},
   "outputs": [
    {
     "data": {
      "text/plain": [
       "array([1, 1])"
      ]
     },
     "execution_count": 41,
     "metadata": {},
     "output_type": "execute_result"
    }
   ],
   "source": [
    "k = 2  #k nearest neighbors\n",
    "\n",
    "nearest_indices = np.argsort(distance)[:k]\n",
    "nearest_labels = y_train[nearest_indices]\n",
    "nearest_labels"
   ]
  },
  {
   "cell_type": "code",
   "execution_count": 49,
   "id": "d089c8cd-10fa-4fb6-bb53-0463763ff552",
   "metadata": {},
   "outputs": [
    {
     "data": {
      "text/plain": [
       "array([1, 1])"
      ]
     },
     "execution_count": 49,
     "metadata": {},
     "output_type": "execute_result"
    }
   ],
   "source": [
    "from collections import Counter\n",
    "\n",
    "class KnearestNeighbor:\n",
    "    \n",
    "    def __init__(self, k=2):\n",
    "        self.k = k\n",
    "\n",
    "    def fit(self, X,y):\n",
    "\n",
    "        self.X_train = X\n",
    "        self.y_train = y\n",
    "        \n",
    "\n",
    "\n",
    "    def predict(self, X):\n",
    "        \n",
    "        return np.array([self.predict_point(x) for x in X])\n",
    "\n",
    "\n",
    "    def predict_point(self, x):\n",
    "        \n",
    "        distances = np.linalg.norm(self.X_train - x, axis=1)\n",
    "        k_indices = np.argsort(distances)[:self.k]\n",
    "        k_nearest_labels = self.y_train[k_indices]\n",
    "        most_common = Counter(k_nearest_labels).most_common(1)[0][0]\n",
    "        \n",
    "        return most_common\n",
    "\n",
    "\n",
    "\n",
    "\n",
    "\n",
    "\n",
    "X = np.array([[1,2],[3,4],[5,5],[10,10]])\n",
    "\n",
    "y = np.array([0, 1, 1, 0])\n",
    "\n",
    "knn = KnearestNeighbor()\n",
    "knn.fit(X,y)\n",
    "predicted_label = knn.predict(np.array([4,4]))\n",
    "predicted_label\n",
    "\n",
    "        \n",
    "        \n",
    "        "
   ]
  },
  {
   "cell_type": "code",
   "execution_count": 58,
   "id": "035076cd-4858-45b2-9b47-acc19a3a17e7",
   "metadata": {},
   "outputs": [
    {
     "data": {
      "text/plain": [
       "array([1])"
      ]
     },
     "execution_count": 58,
     "metadata": {},
     "output_type": "execute_result"
    }
   ],
   "source": [
    "from sklearn.neighbors import KNeighborsClassifier\n",
    "\n",
    "X = np.array([[1,2],[3,4],[5,5],[10,10]])\n",
    "\n",
    "y = np.array([0, 1, 1, 0])\n",
    "\n",
    "\n",
    "knn = KNeighborsClassifier(n_neighbors=3)\n",
    "knn.fit(X, y)\n",
    "pred_labels = knn.predict(np.array([4, 4]).reshape(1, -1))\n",
    "pred_labels"
   ]
  },
  {
   "cell_type": "code",
   "execution_count": null,
   "id": "1ed29bff-387a-4747-a780-1fba44025aaa",
   "metadata": {},
   "outputs": [],
   "source": []
  }
 ],
 "metadata": {
  "kernelspec": {
   "display_name": "Python 3 (ipykernel)",
   "language": "python",
   "name": "python3"
  },
  "language_info": {
   "codemirror_mode": {
    "name": "ipython",
    "version": 3
   },
   "file_extension": ".py",
   "mimetype": "text/x-python",
   "name": "python",
   "nbconvert_exporter": "python",
   "pygments_lexer": "ipython3",
   "version": "3.12.11"
  }
 },
 "nbformat": 4,
 "nbformat_minor": 5
}
