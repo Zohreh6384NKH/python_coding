{
 "cells": [
  {
   "cell_type": "markdown",
   "metadata": {},
   "source": [
    "### Merge Two Lists"
   ]
  },
  {
   "cell_type": "markdown",
   "metadata": {},
   "source": [
    "You are given the heads of two sorted linked lists list1 and list2.\n",
    "\n",
    "Merge the two lists into one sorted list. The list should be made by splicing together the nodes of the first two lists.\n",
    "\n",
    "Return the head of the merged linked list.\n",
    "\n",
    "Input: list1 = [1,2,4], list2 = [1,3,4]\n",
    "Output: [1,1,2,3,4,4]\n",
    "Example 2:\n",
    "\n",
    "Input: list1 = [], list2 = []\n",
    "Output: []\n",
    "Example 3:\n",
    "\n",
    "Input: list1 = [], list2 = [0]\n",
    "Output: [0]"
   ]
  },
  {
   "cell_type": "code",
   "execution_count": 7,
   "metadata": {},
   "outputs": [
    {
     "name": "stdout",
     "output_type": "stream",
     "text": [
      "[0]\n",
      "[1, 3, 4, 4, 5, 5, 6, 7, 8, 9]\n",
      "[]\n"
     ]
    }
   ],
   "source": [
    "def merge_lists(list1, list2):\n",
    "    \n",
    "    p1 = 0  #points to start of list1\n",
    "    p2 = 0  #points to start of list2\n",
    "    \n",
    "    merged_list = []\n",
    "    while p1 < len(list1) and p2 < len(list2):\n",
    "        if list1[p1] <= list2[p2]:\n",
    "            merged_list.append(list1[p1])\n",
    "            p1 +=1\n",
    "        else:\n",
    "            merged_list.append(list2[p2])\n",
    "            p2 +=1\n",
    "    while p1 < len(list1):\n",
    "        merged_list.append(list1[p1])\n",
    "        p1 +=1\n",
    "    while p2 < len(list2):\n",
    "        merged_list.append(list2[p2])\n",
    "        p2 +=1\n",
    "    return merged_list\n",
    "output_1 = merge_lists([] , [0])\n",
    "output_2 = merge_lists([3,4,5,6,7],[1,4,5,8,9])\n",
    "output_3 = merge_lists([], [])\n",
    "print(output_1)\n",
    "print(output_2)\n",
    "print(output_3)\n",
    "\n",
    "\n",
    "\n",
    "\n",
    "        \n",
    "        \n",
    "                "
   ]
  }
 ],
 "metadata": {
  "kernelspec": {
   "display_name": "Python 3",
   "language": "python",
   "name": "python3"
  },
  "language_info": {
   "codemirror_mode": {
    "name": "ipython",
    "version": 3
   },
   "file_extension": ".py",
   "mimetype": "text/x-python",
   "name": "python",
   "nbconvert_exporter": "python",
   "pygments_lexer": "ipython3",
   "version": "3.10.12"
  }
 },
 "nbformat": 4,
 "nbformat_minor": 2
}
