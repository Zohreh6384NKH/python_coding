{
 "cells": [
  {
   "cell_type": "markdown",
   "metadata": {},
   "source": [
    "### Linked list Cycle"
   ]
  },
  {
   "cell_type": "markdown",
   "metadata": {},
   "source": [
    "Given head, the head of a linked list, determine if the linked list has a cycle in it.\n",
    "\n",
    "There is a cycle in a linked list if there is some node in the list that can be reached again by continuously following the next pointer. Internally, pos is used to denote the index of the node that tail's next pointer is connected to. Note that pos is not passed as a parameter.\n",
    "\n",
    "Return true if there is a cycle in the linked list. Otherwise, return false.\n",
    "\n",
    "\n",
    "Input: head = [3,2,0,-4], pos = 1\n",
    "Output: true\n",
    "Explanation: There is a cycle in the linked list, where the tail connects to the 1st node (0-indexed).\n",
    "\n",
    "\n",
    "Input: head = [1,2], pos = 0\n",
    "Output: true\n",
    "Explanation: There is a cycle in the linked list, where the tail connects to the 0th node.\n",
    "\n",
    "\n",
    "\n",
    "Input: head = [1], pos = -1\n",
    "Output: false\n",
    "Explanation: There is no cycle in the linked list."
   ]
  },
  {
   "cell_type": "markdown",
   "metadata": {},
   "source": [
    "Example of How the Set Helps Detect a Cycle\n",
    "Consider a linked list with a cycle like this:\n",
    "\n",
    "Nodes: [3 → 2 → 0 → -4]\n",
    "Suppose -4 points back to 2 to create a cycle.\n",
    "Here’s how the set helps:\n",
    "\n",
    "Start at node 3. Check if it’s in visited. It’s not, so add it: visited = {3}.\n",
    "Move to node 2. Check if it’s in visited. It’s not, so add it: visited = {3, 2}.\n",
    "Move to node 0. Check if it’s in visited. It’s not, so add it: visited = {3, 2, 0}.\n",
    "Move to node -4. Check if it’s in visited. It’s not, so add it: visited = {3, 2, 0, -4}.\n",
    "Move to the next node, which points back to 2. Now 2 is already in visited, so we detect a cycle and return True."
   ]
  },
  {
   "cell_type": "code",
   "execution_count": null,
   "metadata": {},
   "outputs": [],
   "source": [
    "#first we define a single node with class\n",
    "class ListNode:\n",
    "    def __init__(self, val):\n",
    "        self.val = val\n",
    "        self.next = None\n",
    "        \n",
    "class Solution:\n",
    "    def hasCycle(self, head : ListNode):\n",
    "        visited = set()\n",
    "        while head:\n",
    "            if head in visited:   # if we see the node there is a cycle\n",
    "                return True\n",
    "            \n",
    "            visited.add(head)   # mark the node as visited \n",
    "            head = head.next    # move to the next node\n",
    "            \n",
    "        return False\n",
    "        \n",
    "        \n",
    "    \n",
    "    \n",
    "    \n",
    "    \n",
    "    \n"
   ]
  }
 ],
 "metadata": {
  "kernelspec": {
   "display_name": "Python 3",
   "language": "python",
   "name": "python3"
  },
  "language_info": {
   "codemirror_mode": {
    "name": "ipython",
    "version": 3
   },
   "file_extension": ".py",
   "mimetype": "text/x-python",
   "name": "python",
   "nbconvert_exporter": "python",
   "pygments_lexer": "ipython3",
   "version": "3.10.12"
  }
 },
 "nbformat": 4,
 "nbformat_minor": 2
}
