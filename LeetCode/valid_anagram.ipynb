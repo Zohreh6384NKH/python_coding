{
 "cells": [
  {
   "cell_type": "markdown",
   "metadata": {},
   "source": [
    "Given two strings s and t, return true if t is an \n",
    "anagram\n",
    " of s, and false otherwise.\n",
    "\n",
    " \n",
    "\n",
    "Example 1:\n",
    "\n",
    "Input: s = \"anagram\", t = \"nagaram\"\n",
    "\n",
    "Output: true\n",
    "\n",
    "Example 2:\n",
    "\n",
    "Input: s = \"rat\", t = \"car\"\n",
    "\n",
    "Output: false\n",
    "\n"
   ]
  },
  {
   "cell_type": "code",
   "execution_count": 10,
   "metadata": {},
   "outputs": [
    {
     "name": "stdout",
     "output_type": "stream",
     "text": [
      "valid anagram\n",
      "not valid\n",
      "not valid\n"
     ]
    }
   ],
   "source": [
    "from collections import Counter\n",
    "def is_valid_anagram(s, t):\n",
    "    if len(s) != len(t):\n",
    "        return 'not valid'\n",
    "    else:\n",
    "        if Counter(s) == Counter(t):\n",
    "            return 'valid anagram'\n",
    "        else:\n",
    "            return 'not valid'\n",
    "\n",
    "print(is_valid_anagram('telegram', 'eltegram'))\n",
    "print(is_valid_anagram('people', 'purple'))\n",
    "print(is_valid_anagram('car', 'cater'))\n"
   ]
  }
 ],
 "metadata": {
  "kernelspec": {
   "display_name": "Python 3",
   "language": "python",
   "name": "python3"
  },
  "language_info": {
   "codemirror_mode": {
    "name": "ipython",
    "version": 3
   },
   "file_extension": ".py",
   "mimetype": "text/x-python",
   "name": "python",
   "nbconvert_exporter": "python",
   "pygments_lexer": "ipython3",
   "version": "3.10.12"
  }
 },
 "nbformat": 4,
 "nbformat_minor": 2
}
