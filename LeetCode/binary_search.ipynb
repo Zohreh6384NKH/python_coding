{
 "cells": [
  {
   "cell_type": "markdown",
   "metadata": {},
   "source": [
    "### Binary Search"
   ]
  },
  {
   "cell_type": "markdown",
   "metadata": {},
   "source": [
    "Given an array of integers nums which is sorted in ascending order, and an integer target, write a function to search target in nums. If target exists, then return its index. Otherwise, return -1.\n",
    "\n",
    "You must write an algorithm with O(log n) runtime complexity.\n",
    "\n",
    " \n",
    "\n",
    "Example 1:\n",
    "\n",
    "Input: nums = [-1,0,3,5,9,12], target = 9\n",
    "Output: 4\n",
    "Explanation: 9 exists in nums and its index is 4\n",
    "Example 2:\n",
    "\n",
    "Input: nums = [-1,0,3,5,9,12], target = 2\n",
    "Output: -1\n",
    "Explanation: 2 does not exist in nums so return -1"
   ]
  },
  {
   "cell_type": "code",
   "execution_count": 11,
   "metadata": {},
   "outputs": [
    {
     "name": "stdout",
     "output_type": "stream",
     "text": [
      "4\n"
     ]
    }
   ],
   "source": [
    "def binary_search(nums, target):\n",
    "    \n",
    "    p1 = 0  # Left pointer at the start of the list\n",
    "    p2 = len(nums) - 1  # Right pointer at the end of the list\n",
    "\n",
    "    while p1 <= p2:\n",
    "        mid_idx = (p1 + p2) // 2  # Calculate the middle index\n",
    "        mid_point = nums[mid_idx]  # Value at the middle index\n",
    "\n",
    "        # Check if the target is at the middle\n",
    "        if mid_point == target:\n",
    "            return mid_idx  # Target found, return the index\n",
    "\n",
    "        # If target is less than the middle element, move the right pointer to mid - 1\n",
    "        elif target < mid_point:\n",
    "            p2 = mid_idx - 1\n",
    "\n",
    "        # If target is greater than the middle element, move the left pointer to mid + 1\n",
    "        else:\n",
    "            p1 = mid_idx + 1\n",
    "\n",
    "    return -1  # Target not found\n",
    "            \n",
    "    \n",
    "    \n",
    "    \n",
    "print(binary_search([2,4,5,6,9,11], target = 9))\n"
   ]
  }
 ],
 "metadata": {
  "kernelspec": {
   "display_name": "Python 3",
   "language": "python",
   "name": "python3"
  },
  "language_info": {
   "codemirror_mode": {
    "name": "ipython",
    "version": 3
   },
   "file_extension": ".py",
   "mimetype": "text/x-python",
   "name": "python",
   "nbconvert_exporter": "python",
   "pygments_lexer": "ipython3",
   "version": "3.10.12"
  }
 },
 "nbformat": 4,
 "nbformat_minor": 2
}
