{
 "cells": [
  {
   "cell_type": "code",
   "execution_count": 1,
   "metadata": {},
   "outputs": [],
   "source": [
    "import numpy as np"
   ]
  },
  {
   "cell_type": "markdown",
   "metadata": {},
   "source": [
    "### writing items into an array"
   ]
  },
  {
   "cell_type": "code",
   "execution_count": 4,
   "metadata": {},
   "outputs": [
    {
     "name": "stdout",
     "output_type": "stream",
     "text": [
      "Inception directed by Christopher Nolan released in 2010\n",
      "matrix directed by Lana Wachowski released in 1999\n",
      "None\n",
      "None\n",
      "None\n",
      "None\n",
      "None\n",
      "None\n",
      "None\n",
      "None\n",
      "None\n",
      "None\n",
      "None\n",
      "None\n",
      "None\n"
     ]
    }
   ],
   "source": [
    "# a simple definition for a dvd\n",
    "dvd_collection = [None]* 15\n",
    "class DVD:\n",
    "    def __init__(self, name, release_year, director):\n",
    "        self.name = name\n",
    "        self.release_year = release_year\n",
    "        self.director = director\n",
    "\n",
    "\n",
    "\n",
    "\n",
    "    def __str__(self, ):\n",
    "        return f'{self.name} directed by {self.director} released in {self.release_year}'\n",
    "    \n",
    "dvd1 = DVD('Inception', 2010, 'Christopher Nolan')\n",
    "dvd2 = DVD('matrix', 1999, 'Lana Wachowski')\n",
    "# dvd1.__str__()\n",
    "# dvd2.__str__()\n",
    "dvd_collection[0] = dvd1\n",
    "dvd_collection[1] = dvd2\n",
    "for dvd in dvd_collection:\n",
    "    print(dvd)\n"
   ]
  },
  {
   "cell_type": "code",
   "execution_count": 5,
   "metadata": {},
   "outputs": [
    {
     "name": "stdout",
     "output_type": "stream",
     "text": [
      "4\n"
     ]
    }
   ],
   "source": [
    "l = [None] *4      # it is like [None, None, None, None]\n",
    "print(len(l))"
   ]
  },
  {
   "cell_type": "code",
   "execution_count": 6,
   "metadata": {},
   "outputs": [
    {
     "name": "stdout",
     "output_type": "stream",
     "text": [
      "Inception directed by Christopher Nolan released in 2010\n",
      "matrix directed by Lana Wachowski released in 1999\n",
      "None\n",
      "None\n",
      "None\n",
      "None\n",
      "None\n",
      "The Avengers directed by Joss Whedon released in 2012\n",
      "None\n",
      "None\n",
      "None\n",
      "None\n",
      "None\n",
      "None\n",
      "None\n"
     ]
    }
   ],
   "source": [
    "# array operation is writing element to them and reading from them\n",
    "#lets add and put the 'Avengers' in 8th place of the array we just created\n",
    "# Firstly, we need to actually create a DVD object for The Avengers.\n",
    "dvd3 = DVD('The Avengers', 2012, 'Joss Whedon')\n",
    "\n",
    "#Next, we'll put it into the 8th place of the Array. Remember, because we\n",
    "# started numbering from 0, the index we want is 7.\n",
    "\n",
    "dvd_collection[7] = dvd3\n",
    "for dvd in dvd_collection:\n",
    "    print(dvd)"
   ]
  },
  {
   "cell_type": "code",
   "execution_count": 7,
   "metadata": {},
   "outputs": [
    {
     "name": "stdout",
     "output_type": "stream",
     "text": [
      "Inception directed by Christopher Nolan released in 2010\n",
      "matrix directed by Lana Wachowski released in 1999\n",
      "The Lion King directed by Jon Favreau released in 2019\n",
      "The Incredibles directed by Brad Bird released in 2004\n",
      "None\n",
      "None\n",
      "None\n",
      "The Avengers directed by Joss Whedon released in 2012\n",
      "None\n",
      "Finding Dory directed by Andrew Stanton released in 2016\n",
      "None\n",
      "None\n",
      "None\n",
      "None\n",
      "None\n"
     ]
    }
   ],
   "source": [
    "# lets put more dvds\n",
    "dvd4 = DVD(\"The Incredibles\", 2004, \"Brad Bird\")\n",
    "dvd5 = DVD(\"Finding Dory\", 2016, \"Andrew Stanton\")\n",
    "dvd6 = DVD(\"The Lion King\", 2019, \"Jon Favreau\")\n",
    "dvd_collection[3] = dvd4\n",
    "dvd_collection[9] = dvd5\n",
    "dvd_collection[2] = dvd6\n",
    "for dvd in dvd_collection:\n",
    "    print(dvd)\n"
   ]
  },
  {
   "cell_type": "code",
   "execution_count": 9,
   "metadata": {},
   "outputs": [
    {
     "name": "stdout",
     "output_type": "stream",
     "text": [
      "Inception directed by Christopher Nolan released in 2010\n",
      "matrix directed by Lana Wachowski released in 1999\n",
      "The Lion King directed by Jon Favreau released in 2019\n",
      "Star Wars directed by George Lucas released in 1977\n",
      "None\n",
      "None\n",
      "None\n",
      "The Avengers directed by Joss Whedon released in 2012\n",
      "None\n",
      "Finding Dory directed by Andrew Stanton released in 2016\n",
      "None\n",
      "None\n",
      "None\n",
      "None\n",
      "None\n"
     ]
    }
   ],
   "source": [
    "dvd7 = DVD('Star Wars', 1977, 'George Lucas')\n",
    "dvd_collection[3] = dvd7\n",
    "for dvd in dvd_collection:\n",
    "    print(dvd)\n"
   ]
  },
  {
   "cell_type": "markdown",
   "metadata": {},
   "source": [
    "### reading items from an array with loop"
   ]
  },
  {
   "cell_type": "code",
   "execution_count": 11,
   "metadata": {},
   "outputs": [
    {
     "name": "stdout",
     "output_type": "stream",
     "text": [
      "the collection of dvds are :Inception directed by Christopher Nolan released in 2010\n",
      "the collection of dvds are :matrix directed by Lana Wachowski released in 1999\n",
      "the collection of dvds are :The Lion King directed by Jon Favreau released in 2019\n",
      "the collection of dvds are :Star Wars directed by George Lucas released in 1977\n",
      "the collection of dvds are :None\n",
      "the collection of dvds are :None\n",
      "the collection of dvds are :None\n",
      "the collection of dvds are :The Avengers directed by Joss Whedon released in 2012\n",
      "the collection of dvds are :None\n",
      "the collection of dvds are :Finding Dory directed by Andrew Stanton released in 2016\n",
      "the collection of dvds are :None\n",
      "the collection of dvds are :None\n",
      "the collection of dvds are :None\n",
      "the collection of dvds are :None\n",
      "the collection of dvds are :None\n"
     ]
    }
   ],
   "source": [
    "for dvd in dvd_collection:\n",
    "    print(f'the collection of dvds are :{dvd}')"
   ]
  },
  {
   "cell_type": "code",
   "execution_count": 12,
   "metadata": {},
   "outputs": [
    {
     "data": {
      "text/plain": [
       "[None, None, None, None, None, None]"
      ]
     },
     "execution_count": 12,
     "metadata": {},
     "output_type": "execute_result"
    }
   ],
   "source": [
    "array = [None] * 6\n",
    "array"
   ]
  },
  {
   "cell_type": "code",
   "execution_count": 13,
   "metadata": {},
   "outputs": [
    {
     "name": "stdout",
     "output_type": "stream",
     "text": [
      "6\n"
     ]
    }
   ],
   "source": [
    "print(len(array))"
   ]
  },
  {
   "cell_type": "code",
   "execution_count": 15,
   "metadata": {},
   "outputs": [
    {
     "name": "stdout",
     "output_type": "stream",
     "text": [
      "[0, 1, 4, None, None, None]\n",
      "6\n"
     ]
    }
   ],
   "source": [
    "for i in range(3):\n",
    "    array[i] = i * i\n",
    "print(array)\n",
    "print(len(array))\n"
   ]
  },
  {
   "cell_type": "code",
   "execution_count": 21,
   "metadata": {},
   "outputs": [
    {
     "data": {
      "text/plain": [
       "4"
      ]
     },
     "execution_count": 21,
     "metadata": {},
     "output_type": "execute_result"
    }
   ],
   "source": [
    "# The first three digits or the last fourth digits are consecutive 1s. The maximum number of consecutive 1s is 4.\n",
    "def find_max_consecutive_ones():\n",
    "    nums = [1, 1, 1, 0, 1, 1, 1, 1]\n",
    "    max_consecutive = 0\n",
    "    current_consecutive = 0\n",
    "    for num in nums:\n",
    "        if num == 1:\n",
    "            current_consecutive += 1\n",
    "            max_consecutive = max(current_consecutive, max_consecutive)\n",
    "        else:\n",
    "            current_consecutive = 0\n",
    "    return max_consecutive\n",
    "output = find_max_consecutive_ones()\n",
    "output\n",
    "\n",
    "\n"
   ]
  },
  {
   "cell_type": "code",
   "execution_count": 24,
   "metadata": {},
   "outputs": [
    {
     "name": "stdout",
     "output_type": "stream",
     "text": [
      "counts of numbers with even digits are:2\n"
     ]
    }
   ],
   "source": [
    "# Given an array nums of integers, return how many of them contain an even number of digits.\n",
    "\n",
    "nums = [12,345,2,6,7896]\n",
    "count = 0\n",
    "for num in nums:\n",
    "    num = str(num)\n",
    "    if len(num) % 2 == 0:\n",
    "        count += 1\n",
    "print(f'counts of numbers with even digits are:{count}')\n",
    "\n",
    "\n",
    "\n",
    "\n",
    "\n"
   ]
  },
  {
   "cell_type": "code",
   "execution_count": 14,
   "metadata": {},
   "outputs": [
    {
     "name": "stdout",
     "output_type": "stream",
     "text": [
      "4\n"
     ]
    }
   ],
   "source": [
    "# another approach to not consider each number as string\n",
    "nums  = [3245, 546, 65, 234, 5678, 34, 2]\n",
    "count = 0\n",
    "digit_count = 0\n",
    "for num in nums :\n",
    "    while num != 0:\n",
    "        digit = num % 10\n",
    "        digit_count += 1\n",
    "        num = num // 10\n",
    "    if digit_count % 2 == 0:\n",
    "        count += 1\n",
    "print(count)\n",
    "\n",
    "\n",
    "\n",
    "    "
   ]
  },
  {
   "cell_type": "code",
   "execution_count": null,
   "metadata": {},
   "outputs": [],
   "source": [
    "# Given an integer array nums sorted in non-decreasing order, return an array of the squares of each number sorted in non-decreasing order."
   ]
  },
  {
   "cell_type": "code",
   "execution_count": 34,
   "metadata": {},
   "outputs": [
    {
     "name": "stdout",
     "output_type": "stream",
     "text": [
      "[16, 1, 0, 9, 100]\n",
      "[0, 1, 9, 16, 100]\n"
     ]
    }
   ],
   "source": [
    "nums = [-4,-1,0,3,10]\n",
    "nums_new = []\n",
    "for num in nums:\n",
    "    num = (num**2)\n",
    "    nums_new.append(num)\n",
    "print(nums_new)\n",
    "for i in nums_new:\n",
    "    nums_new.sort()\n",
    "print(nums_new)\n",
    "\n",
    "\n"
   ]
  },
  {
   "cell_type": "code",
   "execution_count": null,
   "metadata": {},
   "outputs": [],
   "source": [
    "# quick sort algorithm in python\n",
    "#1.Select an element from the array as the pivot. The choice of pivot can vary (e.g., first element, last element, middle element, random element).\n",
    "#2.partitioning:\n",
    "#2.1.elements less than the pivote are on the left\n",
    "#2.2. element greater than the pivote are on the right\n",
    "#3.recursively apply\n",
    "#4.the recursion ends when the sub-array has zero or one element, which is inherently sorted."
   ]
  },
  {
   "cell_type": "code",
   "execution_count": 2,
   "metadata": {},
   "outputs": [
    {
     "name": "stdout",
     "output_type": "stream",
     "text": [
      "the original array is [3, 6, 8, 10, 1, 2, 1]\n",
      "the sorted array is [1, 1, 2, 3, 6, 8, 10]\n"
     ]
    }
   ],
   "source": [
    "def quick_sort(arr):\n",
    "    if len(arr) <= 1:\n",
    "        return arr\n",
    "    pivot = arr[len(arr)//2]   # Choose the middle element as the pivot\n",
    "    left = [x for x in arr if x < pivot]   # Elements less than the pivot\n",
    "    middle = [x for x in arr if x == pivot]   # Elements equal to the pivot\n",
    "    right = [x for x in arr if x > pivot]   # Elements greater than the pivot\n",
    "\n",
    "     # Recursively apply quick_sort to the left and right sub-arrays\n",
    "    return quick_sort(left) + middle + quick_sort(right)\n",
    "arr = [3, 6, 8, 10, 1, 2, 1]\n",
    "sorted_arr = quick_sort(arr)\n",
    "print(f'the original array is {arr}')\n",
    "print(f'the sorted array is {sorted_arr}')"
   ]
  },
  {
   "cell_type": "code",
   "execution_count": 6,
   "metadata": {},
   "outputs": [
    {
     "name": "stdout",
     "output_type": "stream",
     "text": [
      "[2 3 4 5 6 8]\n"
     ]
    }
   ],
   "source": [
    "# insert in end of an array\n",
    "arr = np.array([2,3,4,5,6,7])\n",
    "arr[-1] = 8\n",
    "print(arr)"
   ]
  },
  {
   "cell_type": "code",
   "execution_count": 16,
   "metadata": {},
   "outputs": [
    {
     "name": "stdout",
     "output_type": "stream",
     "text": [
      "[3, 4, 5, None, None, None]\n"
     ]
    }
   ],
   "source": [
    "# Declare an integer list with a capacity of 6 elements\n",
    "int_list = [None] * 6\n",
    "length = 0\n",
    "\n",
    "# Add 3 elements to the list\n",
    "for i in range(3, 6):\n",
    "    int_list[length] = i\n",
    "    length+=1\n",
    "print(int_list)\n"
   ]
  },
  {
   "cell_type": "code",
   "execution_count": 18,
   "metadata": {},
   "outputs": [
    {
     "name": "stdout",
     "output_type": "stream",
     "text": [
      "[None, None, 7, 6, 5, 4]\n"
     ]
    }
   ],
   "source": [
    "# Add 3 elements in end of the list\n",
    "\n",
    "int_list_ = [None] * 6\n",
    "lenght = -1\n",
    "for i in range(4,8):\n",
    "    int_list_[length] = i\n",
    "    length -= 1\n",
    "print(int_list_)"
   ]
  },
  {
   "cell_type": "code",
   "execution_count": 26,
   "metadata": {},
   "outputs": [
    {
     "name": "stdout",
     "output_type": "stream",
     "text": [
      "[1, 0, 0, 2, 3, 0, 0]\n"
     ]
    }
   ],
   "source": [
    "# duplicate zeros\n",
    "#Given a fixed-length integer array arr, duplicate each occurrence of zero, shifting the remaining elements to the right.\n",
    "\n",
    "input_arr = [1,0,2,3,0,4,5]\n",
    "s = 0\n",
    "d = 0\n",
    "N = len(input_arr)\n",
    "# output = [0] * N\n",
    "\n",
    "while s < N:\n",
    "    if d >= N:\n",
    "        break\n",
    "    if input_arr[s] == 0:\n",
    "        if d < N:\n",
    "            output[d] = 0\n",
    "        d += 1\n",
    "        if d < N:\n",
    "            output[d] = 0\n",
    "    else:\n",
    "        if d < N:\n",
    "            output[d] = input_arr[s]\n",
    "    d += 1\n",
    "    s += 1\n",
    "\n",
    "print(output)\n",
    "\n",
    "    "
   ]
  },
  {
   "cell_type": "code",
   "execution_count": 29,
   "metadata": {},
   "outputs": [
    {
     "name": "stdout",
     "output_type": "stream",
     "text": [
      "[4, 0, 0, 6, 7, 0]\n"
     ]
    }
   ],
   "source": [
    "input_array = [4, 0, 6, 7, 0,7]\n",
    "output_array = [4, 0, 0, 6, 7, 0]\n",
    "#output_array <= len(input_array)\n",
    "N = len(input_array)\n",
    "s = 0\n",
    "d = 0\n",
    "if input_array[s] != 0:\n",
    "    output_array[d] = input_array[s]\n",
    "    s+=1\n",
    "    d+=1\n",
    "else:\n",
    "    output_array[d] = 0\n",
    "    d+=1\n",
    "    output_array[d] = 0\n",
    "s+=1\n",
    "d+=1\n",
    "print(output_array)\n",
    "\n"
   ]
  },
  {
   "cell_type": "code",
   "execution_count": 36,
   "metadata": {},
   "outputs": [
    {
     "name": "stdout",
     "output_type": "stream",
     "text": [
      "[1, 2, 2, 3, 5, 6]\n"
     ]
    }
   ],
   "source": [
    "# You are given two integer arrays nums1 and nums2, sorted in non-decreasing order, and two integers m and n, representing the number of elements in nums1 and nums2 respectively.\n",
    "\n",
    "#Merge nums1 and nums2 into a single array sorted in non-decreasing order.\n",
    "nums1 = [1, 2, 3, 0, 0, 0]\n",
    "nums2 = [2, 5, 6]\n",
    "\n",
    "m = len(nums1)\n",
    "n= len(nums2)\n",
    "num = []\n",
    "\n",
    "#output = [1, 2, 2, 3, 5, 6]\n",
    "for i in nums1:\n",
    "    if i != 0:\n",
    "        num.append(i)\n",
    "for j in nums2:\n",
    "    if j!= 0:\n",
    "        num.append(j)\n",
    "for z in num:\n",
    "    num.sort()\n",
    "    \n",
    "print(num)\n"
   ]
  },
  {
   "cell_type": "code",
   "execution_count": 65,
   "metadata": {},
   "outputs": [
    {
     "data": {
      "text/plain": [
       "[4, 3, 5, 67]"
      ]
     },
     "execution_count": 65,
     "metadata": {},
     "output_type": "execute_result"
    }
   ],
   "source": [
    "# Array Deletion\n",
    "# deleting from the end of an array\n",
    "def delet_element(arr):\n",
    "    arr.remove(arr[-1])\n",
    "    arr.remove(arr[len(arr)//2])\n",
    "\n",
    "    return  arr\n",
    "\n",
    "\n",
    "\n",
    "arr = [4,3,2,5,67,8]\n",
    "arr1= delet_element(arr)\n",
    "arr1\n",
    "\n"
   ]
  },
  {
   "cell_type": "code",
   "execution_count": 64,
   "metadata": {},
   "outputs": [
    {
     "data": {
      "text/plain": [
       "[4, 5, 6, 7]"
      ]
     },
     "execution_count": 64,
     "metadata": {},
     "output_type": "execute_result"
    }
   ],
   "source": [
    "list = [4,5,6,7,8]\n",
    "list.remove(list[-1])\n",
    "list"
   ]
  },
  {
   "cell_type": "code",
   "execution_count": 72,
   "metadata": {},
   "outputs": [
    {
     "name": "stdout",
     "output_type": "stream",
     "text": [
      "4\n"
     ]
    }
   ],
   "source": [
    "#Given an integer array nums and an integer val, remove all occurrences of val in nums in-place. The order of the elements may be changed. Then return the number of elements in nums which are not equal to val.\n",
    "nums = [3,2,2,3, 3, 3]\n",
    "val = 3\n",
    "\n",
    "#output = 2, [2,2,_, _]\n",
    "\n",
    "count = 0\n",
    "for i in nums:\n",
    "    if val == i:\n",
    "        count+=1\n",
    "    \n",
    "print(count)\n"
   ]
  },
  {
   "cell_type": "code",
   "execution_count": 80,
   "metadata": {},
   "outputs": [
    {
     "data": {
      "text/plain": [
       "1"
      ]
     },
     "execution_count": 80,
     "metadata": {},
     "output_type": "execute_result"
    }
   ],
   "source": [
    "def remove_occurances(arr):\n",
    "    count = 0\n",
    "    for i in arr:\n",
    "        if val == i:\n",
    "            count+=1\n",
    "        else:\n",
    "            continue\n",
    "    return count\n",
    "\n",
    "\n",
    "val = 3\n",
    "arr = [3,4,5,6,7,8]\n",
    "# arr = [1,2,3,4,5,3]\n",
    "out = remove_occurances(arr)\n",
    "out"
   ]
  },
  {
   "cell_type": "code",
   "execution_count": 19,
   "metadata": {},
   "outputs": [
    {
     "name": "stdout",
     "output_type": "stream",
     "text": [
      "Counter({1: 3, 3: 3, 4: 3, 2: 2, 5: 1, 6: 1, 7: 1})\n"
     ]
    }
   ],
   "source": [
    "#Given an integer array nums sorted in non-decreasing order, remove the duplicates in-place such that each unique element appears only once. The relative order of the elements should be kept the same. Then return the number of unique elements in nums.\n",
    "# there is two approach for obtaining occurences of elements in a list:\n",
    "# 1. using Counter from collections\n",
    "#2. using dictionaries\n",
    "# both approach give the occurences of each elements in a list\n",
    "\n",
    "from collections import Counter\n",
    "import numpy as np\n",
    "\n",
    "nums = [1,1,1,2,2,3,3,3,4,4,4,5,6,7]\n",
    "print(Counter(nums))\n",
    "\n"
   ]
  },
  {
   "cell_type": "code",
   "execution_count": 1,
   "metadata": {},
   "outputs": [
    {
     "name": "stdout",
     "output_type": "stream",
     "text": [
      "[1, 2, 3, 4, 5, 6, 7]\n"
     ]
    }
   ],
   "source": [
    "#2. using dictionaries\n",
    "dict = {}  # define an empty dictionary\n",
    "def find_duplicates(nums):\n",
    "    for num in nums:\n",
    "        if num in dict:\n",
    "            dict[num] += 1\n",
    "            # print(dict[num])\n",
    "        else:\n",
    "            dict[num] = 1\n",
    "            # print(dict[num])\n",
    "    return dict\n",
    "\n",
    "nums = [1,1,1,2,2,3,3,3,4,4,4,5,6,7]\n",
    "\n",
    "d = find_duplicates(nums)\n",
    "d_keys = d.keys()\n",
    "\n",
    "print(list(d_keys))"
   ]
  },
  {
   "cell_type": "code",
   "execution_count": 16,
   "metadata": {},
   "outputs": [
    {
     "name": "stdout",
     "output_type": "stream",
     "text": [
      "b\n"
     ]
    }
   ],
   "source": [
    "# find the smallest letter greater than target\n",
    "#You are given an array of characters letters that is sorted in non-decreasing order, and a character target. There are at least two different characters in letters.\n",
    "\n",
    "#Return the smallest character in letters that is lexicographically greater than target. If such a character does\n",
    "#not exist, return the first character in letters.\n",
    "# this function works if and only if the list is sorted already.\n",
    "\n",
    "def next_greatest_letter(letters, target):\n",
    "    letters.sort()\n",
    "    for letter in letters:\n",
    "        if letter > target:\n",
    "            return letter\n",
    "    return letters[0]\n",
    "\n",
    "# Example usage:\n",
    "letters = [\"a\", \"f\", \"d\", \"b\"]\n",
    "target = \"a\"\n",
    "result = next_greatest_letter(letters, target)\n",
    "print(result)  # Output: 'f'\n",
    "\n",
    "  #linear search takes o(n) time.  \n",
    " "
   ]
  },
  {
   "cell_type": "code",
   "execution_count": 2,
   "metadata": {},
   "outputs": [
    {
     "data": {
      "text/plain": [
       "'h'"
      ]
     },
     "execution_count": 2,
     "metadata": {},
     "output_type": "execute_result"
    }
   ],
   "source": [
    "# binary search approach\n",
    "def binary_search(arr, target):\n",
    "    left = 0\n",
    "    right = len(arr) - 1\n",
    "    while left <= right:\n",
    "        mid = (left + right) // 2\n",
    "        if arr[mid] < target:\n",
    "            left = mid + 1\n",
    "        else: \n",
    "            right = mid - 1\n",
    "    return arr[left % len(arr)]\n",
    "letters = ['a', 'b', 'd', 'h', 'k', 'm']\n",
    "target = 'g'\n",
    "out = binary_search(letters, target)\n",
    "out\n"
   ]
  },
  {
   "cell_type": "code",
   "execution_count": 2,
   "metadata": {},
   "outputs": [
    {
     "data": {
      "text/plain": [
       "5"
      ]
     },
     "execution_count": 2,
     "metadata": {},
     "output_type": "execute_result"
    }
   ],
   "source": [
    "# binary search approach for efficiency\n",
    "#If the list is large, a binary search approach would be more efficient with O(log n) time complexity\n",
    "def binary_search(arr, target):\n",
    "    left = 0\n",
    "    right = len(arr) - 1\n",
    "    while left <= right:\n",
    "        mid = (left + right) // 2\n",
    "\n",
    "        if arr[mid] > target:\n",
    "            right = mid - 1\n",
    "        else:\n",
    "            left = mid + 1\n",
    "    return arr[left % len(arr)]\n",
    "arr = [2,3,4,5,6,7,8,9]\n",
    "target = 4\n",
    "out = binary_search(arr, target)\n",
    "out\n",
    "\n"
   ]
  },
  {
   "cell_type": "code",
   "execution_count": 7,
   "metadata": {},
   "outputs": [
    {
     "name": "stdout",
     "output_type": "stream",
     "text": [
      "true\n",
      "10\n",
      "false\n",
      "false\n",
      "true\n",
      "4\n"
     ]
    }
   ],
   "source": [
    "# check if N and its double exists\n",
    "# Given an array of integers, check if there exist two indices i and j such that :\n",
    "\n",
    "# Input: arr = [10,2,5,3]\n",
    "# Output: true\n",
    "# Explanation: For i = 0 and j = 2, arr[i] == 10 == 2 * 5 == 2 * arr[j]\n",
    "\n",
    "arr = [10, 2, 5, 4]\n",
    "\n",
    "for i in range(0, len(arr)):\n",
    "    if arr[i] / 2 in arr:\n",
    "\n",
    "        print('true')\n",
    "        print(arr[i])\n",
    "    else:\n",
    "        print('false')\n",
    "\n",
    "    \n",
    "        \n",
    "\n",
    "\n",
    "\n",
    "\n",
    "\n",
    "\n",
    "\n"
   ]
  },
  {
   "cell_type": "code",
   "execution_count": 6,
   "metadata": {},
   "outputs": [
    {
     "name": "stdout",
     "output_type": "stream",
     "text": [
      "false\n",
      "false\n",
      "false\n",
      "false\n",
      "found mountain array, the number is 8\n",
      "false\n",
      "false\n",
      "false\n",
      "false\n",
      "false\n"
     ]
    }
   ],
   "source": [
    "# valid mountain array\n",
    "\n",
    "a = [0,3,4,6,8,7,6,5,4,1]\n",
    "for i in range(len(a)):\n",
    "    if a[i] > a[i - 1]  and a[i] > a[i + 1]:\n",
    "        print('found mountain array, the number is',a[i])\n",
    "    else:\n",
    "        print('false')\n",
    "\n",
    "\n",
    "\n",
    "    "
   ]
  },
  {
   "cell_type": "code",
   "execution_count": 3,
   "metadata": {},
   "outputs": [
    {
     "name": "stdout",
     "output_type": "stream",
     "text": [
      "[81, -2, 81, 11, 3136, -12, 9]\n"
     ]
    }
   ],
   "source": [
    "#Given an Array of integers, return an Array where every element at an even-indexed position is squared.\n",
    "\n",
    "# Input: array = [9, -2, -9, 11, 56, -12, -3]\n",
    "# Output: [81, -2, 81, 11, 3136, -12, 9]\n",
    "\n",
    "#Explanation: The numbers at even indexes (0, 2, 4, 6) have been squared, \n",
    "\n",
    "# whereas the numbers at odd indexes (1, 3, 5) have been left the same.\n",
    "\n",
    "def even_index_square(arr):\n",
    "    arr_new = []\n",
    "    for i in range(len(arr)):\n",
    "        if i % 2 == 0:\n",
    "            arr[i] = arr[i] ** 2\n",
    "        arr_new.append(arr[i])\n",
    "    print(arr)\n",
    "\n",
    "\n",
    "arr = [9, -2, -9, 11, 56, -12, -3]\n",
    "even_index_square(arr)\n",
    "    \n",
    "        \n"
   ]
  },
  {
   "cell_type": "code",
   "execution_count": 4,
   "metadata": {},
   "outputs": [
    {
     "data": {
      "text/plain": [
       "[81, -2, 81, 11, 3136, -12, 9]"
      ]
     },
     "execution_count": 4,
     "metadata": {},
     "output_type": "execute_result"
    }
   ],
   "source": [
    "# this approach is inefficient because this takes o(length) extra space.\n",
    "#better approach would be doing this inplace.\n",
    "\n",
    "def even_square_index(arr):\n",
    "    for i in range(0, len(arr), 2):\n",
    "        arr[i] = arr[i]**2\n",
    "    return arr\n",
    "\n",
    "arr = [9, -2, -9, 11, 56, -12, -3]\n",
    "\n",
    "arr = even_square_index(arr)\n",
    "arr\n",
    "        \n",
    "        "
   ]
  },
  {
   "cell_type": "code",
   "execution_count": 31,
   "metadata": {},
   "outputs": [
    {
     "name": "stdout",
     "output_type": "stream",
     "text": [
      "[18, 18, 9, 9, 8, 8, 1, 1]\n"
     ]
    }
   ],
   "source": [
    "# Given an array arr, replace every element in that array with the greatest element among the elements to its right, and replace the last element with -1.\n",
    "\n",
    "#Input: arr = [17,18,5,4,6,1]\n",
    "\n",
    "#Output: [18,6,6,6,1,-1]\n",
    "\n",
    "#Explanation:\n",
    " \n",
    "#index 0 --> the greatest element to the right of index 0 is index 1 (18).\n",
    "#index 1 --> the greatest element to the right of index 1 is index 4 (6).\n",
    "#index 2 --> the greatest element to the right of index 2 is index 4 (6).\n",
    "#index 3 --> the greatest element to the right of index 3 is index 4 (6).\n",
    "#index 4 --> the greatest element to the right of index 4 is index 5 (1).\n",
    "#index 517 --> there are no elements to the right of index 5, so we put -1.\n",
    "\n",
    "\n",
    "# Input: arr = [400]\n",
    "#Output: [-1]\n",
    "#Explanation: There are no elements to the right of index 0.\n",
    "\n",
    "\n",
    "\n",
    "import numpy as np\n",
    "\n",
    "def find_greatest_right(arr):\n",
    "\n",
    "    if len(arr) == 1:\n",
    "            \n",
    "            return -1\n",
    "\n",
    "\n",
    "    for i in range(len(arr) -1):\n",
    "        \n",
    "        arr[i] = max(arr[i+1:])\n",
    "    return arr\n",
    "\n",
    "arr = [17,2,18,6,9,3,8,1]\n",
    "# print(arr[0:])\n",
    "\n",
    "\n",
    "output = find_greatest_right(arr)\n",
    "print(output)\n",
    "\n",
    "\n",
    "\n",
    "\n"
   ]
  },
  {
   "cell_type": "code",
   "execution_count": 51,
   "metadata": {},
   "outputs": [
    {
     "data": {
      "text/plain": [
       "[0, 1, 2, 3, 4]"
      ]
     },
     "execution_count": 51,
     "metadata": {},
     "output_type": "execute_result"
    }
   ],
   "source": [
    "from collections import Counter\n",
    "# Given a sorted array, remove the duplicates such that each element appears only once.\n",
    "#Input: array = [1, 1, 2]\n",
    "#Output: [1, 2]\n",
    "\n",
    "array = [0, 0, 1, 1, 1, 2, 2, 3, 3, 4]\n",
    "Output: [0, 1, 2, 3, 4]\n",
    "\n",
    "counter = Counter(array)\n",
    "keys = counter.keys()\n",
    "dict_to_list = list(keys)\n",
    "dict_to_list\n",
    "\n",
    "\n",
    "\n",
    "\n",
    "\n"
   ]
  },
  {
   "cell_type": "code",
   "execution_count": 60,
   "metadata": {},
   "outputs": [
    {
     "name": "stdout",
     "output_type": "stream",
     "text": [
      "[0, 1, 2, 3, 4]\n"
     ]
    }
   ],
   "source": [
    "# another approach\n",
    "arr = [0, 0, 1, 1, 1, 2, 2, 3, 3, 4, 4, 4]\n",
    "def remove_duplicate(arr):\n",
    "    dict = {}\n",
    "    for i in arr:\n",
    "        if i in dict:\n",
    "            dict[i] += 1\n",
    "        else:\n",
    "\n",
    "            dict[i] = 1\n",
    "        \n",
    "    return dict\n",
    "\n",
    "dict = remove_duplicate(arr)\n",
    "keys = dict.keys()\n",
    "unique_list = list(keys)\n",
    "print(unique_list)\n",
    "\n",
    "\n"
   ]
  },
  {
   "cell_type": "code",
   "execution_count": 84,
   "metadata": {},
   "outputs": [
    {
     "data": {
      "text/plain": [
       "[0, 1, 2, 3, 4, '_', '_', '_', '_', '_']"
      ]
     },
     "execution_count": 84,
     "metadata": {},
     "output_type": "execute_result"
    }
   ],
   "source": [
    "# Given an integer array nums sorted in non-decreasing order, remove the duplicates in-place such that each unique element appears only once. \n",
    "# The relative order of the elements should be kept the same. Then return the number of unique elements in nums.\n",
    "\n",
    "#Input: nums = [0,0,1,1,1,2,2,3,3,4]\n",
    "#Output: 5, nums = [0,1,2,3,4,_,_,_,_,_]\n",
    "\n",
    "#Explanation: Your function should return k = 5, with the first five elements of nums being 0, 1, 2, 3, and 4 respectively.\n",
    "#It does not matter what you leave beyond the returned k (hence they are underscores).\n",
    "\n",
    "def remove_duplicate_inplace(nums):\n",
    "\n",
    "    dict = {}\n",
    "    result = []\n",
    "    # count occurances of each element \n",
    "    for i in nums:\n",
    "        if i in dict:\n",
    "            dict[i]+= 1\n",
    "        else:\n",
    "            dict[i] = 1\n",
    "\n",
    "    result = list(dict.keys())\n",
    "    \n",
    "\n",
    "    # iterate over the dict\n",
    "    for i, count in dict.items():\n",
    "        if count > 1:\n",
    "            result.extend(('_') * (count - 1))\n",
    "    return result\n",
    "        \n",
    "\n",
    "nums = [0,0,1,1,1,2,2,3,3,4]\n",
    "\n",
    "out = remove_duplicate_inplace(nums)\n",
    "\n",
    "out\n",
    "\n",
    "        "
   ]
  },
  {
   "cell_type": "code",
   "execution_count": 10,
   "metadata": {},
   "outputs": [
    {
     "name": "stdout",
     "output_type": "stream",
     "text": [
      "[1, 3, 12, 0, 0]\n"
     ]
    }
   ],
   "source": [
    "# move zeros\n",
    "#Given an integer array nums, move all 0's to the end of it while maintaining the relative order of the non-zero elements.\n",
    "\n",
    "#Note that you must do this in-place without making a copy of the array.\n",
    "# A two-pointer approach could be helpful here. The idea would be to have one pointer for iterating the array and another pointer that just works on the non-zero elements of the array.\n",
    "\n",
    "nums = [0,1,0,3,12]\n",
    "Output = [1,3,12,0,0]\n",
    "zeros = []\n",
    "non_zeros = []\n",
    "\n",
    "for i in nums:\n",
    "    if i == 0:\n",
    "        zeros.append(i)\n",
    "    else:\n",
    "        non_zeros.append(i)\n",
    "non_zeros.extend(zeros)\n",
    "print(non_zeros)\n",
    "# in this approach both space complexity and time complexity are O(n)\n"
   ]
  },
  {
   "cell_type": "code",
   "execution_count": 12,
   "metadata": {},
   "outputs": [
    {
     "data": {
      "text/plain": [
       "[1, 3, 12, 0, 0]"
      ]
     },
     "execution_count": 12,
     "metadata": {},
     "output_type": "execute_result"
    }
   ],
   "source": [
    "# another approach which space complexity is o(1) and time complexity is o(n)\n",
    "def move_zeros(nums):\n",
    "    non_zeros = [i for i in nums if i == 0]\n",
    "    zeros = [i for i in nums if i != 0]\n",
    "    nums[:] = zeros + non_zeros\n",
    "    return nums\n",
    "nums = [0,1,0,3,12]\n",
    "move_zeros(nums)"
   ]
  },
  {
   "cell_type": "code",
   "execution_count": 3,
   "metadata": {},
   "outputs": [
    {
     "data": {
      "text/plain": [
       "[2, 4, 3, 1]"
      ]
     },
     "execution_count": 3,
     "metadata": {},
     "output_type": "execute_result"
    }
   ],
   "source": [
    "# Given an integer array nums, move all the even integers at the beginning of the array followed by all the odd integers.\n",
    "\n",
    "# Input: nums = [3,1,2,4]\n",
    "Output: [2,4,3,1]\n",
    "#Explanation: The outputs [4,2,3,1], [2,4,1,3], and [4,2,1,3] would also be accepted.\n",
    "def even_odd(nums):\n",
    "    even_nums = [i for i in nums if i % 2 == 0]\n",
    "    odd_nums = [i for i in nums if i % 2 != 0]\n",
    "    nums = even_nums + odd_nums\n",
    "    return nums\n",
    "nums = [3,1,2,4]\n",
    "out = even_odd(nums)\n",
    "out\n"
   ]
  },
  {
   "cell_type": "code",
   "execution_count": 3,
   "metadata": {},
   "outputs": [
    {
     "name": "stdout",
     "output_type": "stream",
     "text": [
      "[0, 1, 3, 0, 4, '_', '_', '_']\n"
     ]
    }
   ],
   "source": [
    "#Input: nums = [3,2,2,3], val = 3\n",
    "#Output: 2, nums = [2,2,_,_]\n",
    "#Explanation: Your function should return k = 2, with the first two elements of nums being 2.\n",
    "#It does not matter what you leave beyond the returned k (hence they are underscores).\n",
    "\n",
    "#Input: nums = [0,1,2,2,3,0,4,2], val = 2\n",
    "#Output: 5, nums = [0,1,4,0,3,_,_,_]\n",
    "#Explanation: Your function should return k = 5, with the first five elements of nums containing 0, 0, 1, 3, and 4.\n",
    "#Note that the five elements can be returned in any order.\n",
    "#It does not matter what you leave beyond the returned k (hence they are underscores).\n",
    "\n",
    "count = 0\n",
    "val = 2\n",
    "nums = [0,1,2,2,3,0,4,2]\n",
    "out = []\n",
    "for i in nums:\n",
    "    if i == val:\n",
    "        count +=1\n",
    "    else:\n",
    "        out.append(i)\n",
    "out.extend(('_') * count)\n",
    "print(out)\n",
    "    \n",
    "\n",
    "\n",
    "\n",
    "\n",
    "\n",
    "\n",
    "\n"
   ]
  },
  {
   "cell_type": "code",
   "execution_count": 16,
   "metadata": {},
   "outputs": [
    {
     "name": "stdout",
     "output_type": "stream",
     "text": [
      "[1, 1, 1, 2, 3, 4]\n",
      " the wrong number is 4\n",
      " the wrong number is 1\n",
      " the wrong number is 3\n",
      " sum of wrong index are :3\n"
     ]
    }
   ],
   "source": [
    "# A school is trying to take an annual photo of all the students. The students are asked to stand in a single file line in non-decreasing order by height. Let this ordering be represented by the integer array expected where expected[i] is the expected height of the ith student in line.\n",
    "\n",
    "# You are given an integer array heights representing the current order that the students are standing in. Each heights[i] is the height of the ith student in line (0-indexed).\n",
    "\n",
    "# Return the number of indices where heights[i] != expected[i].\n",
    "#Output: 3\n",
    "#expected: [1,1,1,2,3,4]\n",
    "\n",
    "#Indices 2, 4, and 5 do not match.\n",
    "\n",
    "# heights.sort()\n",
    "# print(heights)\n",
    "\n",
    "\n",
    "\n",
    "heights = [1,1,4,2,1,3]\n",
    "\n",
    "sorted_height = sorted(heights)\n",
    "print(sorted_height)\n",
    "count = 0\n",
    "for i in range(len(heights)):\n",
    "    if heights[i] != sorted_height[i]:\n",
    "    \n",
    "        count += 1\n",
    "\n",
    "        print(f' the wrong number is {heights[i]}')\n",
    "print(f' sum of wrong index are :{count}')\n",
    "\n",
    "\n"
   ]
  },
  {
   "cell_type": "code",
   "execution_count": null,
   "metadata": {},
   "outputs": [],
   "source": [
    "#   Third Maximum Number\n",
    "\n",
    "# Given an integer array nums, return the third distinct maximum number in this array. If the third maximum does not exist, return the maximum number.\n",
    "nums = [3,2,1]\n",
    "Output: 1\n",
    "Explanation:\n",
    "# The first distinct maximum is 3.\n",
    "# The second distinct maximum is 2.\n",
    "# The third distinct maximum is 1.\n",
    "\n",
    "nums = [1,2]\n",
    "Output: 2\n",
    "# Explanation:\n",
    "# The first distinct maximum is 2.\n",
    "# The second distinct maximum is 1.\n",
    "# The third distinct maximum does not exist, so the maximum (2) is returned instead."
   ]
  },
  {
   "cell_type": "code",
   "execution_count": 20,
   "metadata": {},
   "outputs": [
    {
     "name": "stdout",
     "output_type": "stream",
     "text": [
      "3\n"
     ]
    },
    {
     "data": {
      "text/plain": [
       "3"
      ]
     },
     "execution_count": 20,
     "metadata": {},
     "output_type": "execute_result"
    }
   ],
   "source": [
    "nums = [2, 1, 3]\n",
    "for i in nums:\n",
    "    for j in nums[]\n",
    "    max[nums]\n",
    "\n",
    "\n",
    "max_num = max(nums)\n",
    "print(max_num)\n",
    "\n"
   ]
  },
  {
   "cell_type": "code",
   "execution_count": 15,
   "metadata": {},
   "outputs": [
    {
     "name": "stdout",
     "output_type": "stream",
     "text": [
      "[5, 6]\n"
     ]
    }
   ],
   "source": [
    "# Given an array nums of n integers where nums[i] is in the range [1, n], return an array of all the integers in the range [1, n] that do not appear in nums.\n",
    "nums = [4,3,2,7,8,2,3,1]\n",
    "Output = [5,6]\n",
    "l = []\n",
    "for i in range(1, len(nums)+1):\n",
    "\n",
    "    if i not in nums:\n",
    "        l.append(i)\n",
    "print(l)"
   ]
  },
  {
   "cell_type": "code",
   "execution_count": 17,
   "metadata": {},
   "outputs": [
    {
     "name": "stdout",
     "output_type": "stream",
     "text": [
      "[2]\n"
     ]
    }
   ],
   "source": [
    "nums = [1, 1]\n",
    "l = []\n",
    "for i in range(1, len(nums) + 1):\n",
    "    if i not in nums:\n",
    "        l.append(i)\n",
    "print(l)"
   ]
  },
  {
   "cell_type": "code",
   "execution_count": 22,
   "metadata": {},
   "outputs": [
    {
     "name": "stdout",
     "output_type": "stream",
     "text": [
      "[0, 1, 9, 16, 100]\n"
     ]
    }
   ],
   "source": [
    "#Given an integer array nums sorted in non-decreasing order, return an array of the squares of each number sorted in non-decreasing order.\n",
    "\n",
    "nums = [-4,-1,0,3,10]\n",
    "# nums2 = [-7,-3,2,3,11]\n",
    "#Output: [0,1,9,16,100]\n",
    "#Explanation: After squaring, the array becomes [16,1,0,9,100].\n",
    "#After sorting, it becomes [0,1,9,16,100].\n",
    "l = []\n",
    "for i in nums:\n",
    "    i_squared = i ** 2\n",
    "    l.append(i_squared)\n",
    "\n",
    "l.sort()\n",
    "print(l)\n",
    "\n",
    "\n"
   ]
  },
  {
   "cell_type": "code",
   "execution_count": 23,
   "metadata": {},
   "outputs": [
    {
     "name": "stdout",
     "output_type": "stream",
     "text": [
      "[4, 9, 9, 49, 121]\n"
     ]
    }
   ],
   "source": [
    "nums = [-7,-3,2,3,11]\n",
    "# Output: [4,9,9,49,121]\n",
    "l = []\n",
    "for i in nums:\n",
    "    i_squared = i ** 2\n",
    "    l.append(i_squared)\n",
    "\n",
    "l.sort()\n",
    "print(l)\n",
    "\n",
    "\n"
   ]
  },
  {
   "cell_type": "code",
   "execution_count": 28,
   "metadata": {},
   "outputs": [
    {
     "name": "stdout",
     "output_type": "stream",
     "text": [
      "[1, 3, 4, 5, 6, 7, 8, 20, 23]\n"
     ]
    }
   ],
   "source": [
    "def combine_arr1_arr2(arr1, arr2):\n",
    "\n",
    "    i = 0\n",
    "    j = 0\n",
    "    l = []\n",
    "\n",
    "    while i < len(arr1) and j < len(arr2):\n",
    "        if arr1[i] < arr2[j]:\n",
    "            l.append(arr1[i])\n",
    "            i += 1\n",
    "        else:\n",
    "            l.append(arr2[j])\n",
    "            j += 1\n",
    "\n",
    "    while i < len(arr1):\n",
    "        l.append(arr1[i])\n",
    "        i += 1\n",
    "    return l\n",
    "\n",
    "\n",
    "arr1 = [1, 4, 7, 20, 23]\n",
    "arr2 = [3, 5, 6, 8]\n",
    "\n",
    "l = combine_arr1_arr2(arr1, arr2)\n",
    "print(l)\n",
    "\n"
   ]
  },
  {
   "cell_type": "code",
   "execution_count": 36,
   "metadata": {},
   "outputs": [
    {
     "data": {
      "text/plain": [
       "True"
      ]
     },
     "execution_count": 36,
     "metadata": {},
     "output_type": "execute_result"
    }
   ],
   "source": [
    "# Example 1: Given a string s, return true if it is a palindrome, false otherwise.\n",
    "\n",
    "# A string is a palindrome if it reads the same forward as backward. That means, after reversing it, it is still the same string. For example: \"abcdcba\", or \"racecar\".\n",
    "\n",
    "s = 'abcdcba'\n",
    "#s1 = racecar\n",
    "\n",
    "def find_palindrome(s):\n",
    "    for i in range(len(s) // 2):\n",
    "\n",
    "        if s[i] != s[len(s) - i - 1]:\n",
    "            return False\n",
    "            \n",
    "            \n",
    "    return True\n",
    "            \n",
    "        \n",
    "d = find_palindrome(s)\n",
    "d\n",
    "    \n",
    "\n",
    "    "
   ]
  },
  {
   "cell_type": "code",
   "execution_count": 6,
   "metadata": {},
   "outputs": [
    {
     "data": {
      "text/plain": [
       "False"
      ]
     },
     "execution_count": 6,
     "metadata": {},
     "output_type": "execute_result"
    }
   ],
   "source": [
    "# Example 2: Given a sorted array of unique integers and a target integer, return true if there exists a pair of numbers that sum to target, false otherwise. This problem is similar to Two Sum. (In Two Sum, the input is not sorted).\n",
    "\n",
    "#For example, given nums = [1, 2, 4, 6, 8, 9, 14, 15] and target = 13, return true because 4 + 9 = 13\n",
    "target = 26\n",
    "def find_pairs(nums):\n",
    "    right = 0\n",
    "    left = len(nums) - 1\n",
    "    while right < left:\n",
    "        curr = nums[right] + nums[left]\n",
    "        if curr == target:\n",
    "            return True\n",
    "        if curr > target:\n",
    "            left -= 1\n",
    "        else:\n",
    "            right += 1\n",
    "    return False\n",
    "\n",
    "nums = [1, 2, 4, 6, 8, 9, 14, 15]\n",
    "out = find_pairs(nums)\n",
    "out\n",
    "\n",
    "\n",
    "    \n",
    "\n"
   ]
  },
  {
   "cell_type": "code",
   "execution_count": 14,
   "metadata": {},
   "outputs": [
    {
     "data": {
      "text/plain": [
       "False"
      ]
     },
     "execution_count": 14,
     "metadata": {},
     "output_type": "execute_result"
    }
   ],
   "source": [
    "# GivenGiven two strings s and t, return true if s is a subsequence of t, or false otherwise.\n",
    "\n",
    "# A subsequence of a string is a sequence of characters that can be obtained by deleting some (or none) of the characters from the original string, while maintaining \n",
    "#the relative order of the remaining characters. For example, \"ace\" is a subsequence of \"abcde\" while \"aec\" is not.\n",
    "\n",
    "\n",
    "#two strings s and t, return true if s is a subsequence of t, or false otherwise.\n",
    "\n",
    "# A subsequence of a string is a sequence of characters that can be obtained by deleting some (or none) of the characters from the original string, while maintaining \n",
    "#the relative order of the remaining characters. For example, \"ace\" is a subsequence of \"abcde\" while \"aec\" is not.\n",
    "\n",
    "\n",
    "\n",
    "s = 'tyh'\n",
    "t = 'abcde'\n",
    "\n",
    "def find_sub(s, t):\n",
    "    i = 0\n",
    "    j = 0\n",
    "\n",
    "    while i < len(s) and j < len(t):\n",
    "            \n",
    "\n",
    "            if s[i] == t[j]:\n",
    "                i+=1\n",
    "            \n",
    "            j+=1\n",
    "    return i == len(s)\n",
    "out = find_sub(s, t)\n",
    "out\n",
    "                \n",
    "\n",
    "            \n",
    "        \n",
    "\n",
    "                \n",
    "        \n",
    "        \n",
    "        \n",
    "                    \n",
    "\n"
   ]
  },
  {
   "cell_type": "code",
   "execution_count": 7,
   "metadata": {},
   "outputs": [
    {
     "data": {
      "text/plain": [
       "True"
      ]
     },
     "execution_count": 7,
     "metadata": {},
     "output_type": "execute_result"
    }
   ],
   "source": [
    "sub = 'uen'\n",
    "main_string = 'subsequent'\n",
    "def find_subsequent(sub, main_string):\n",
    "    i = 0\n",
    "    j = 0\n",
    "\n",
    "    while i < len(sub) and j < len(main_string):\n",
    "        if sub[i] == main_string[j]:\n",
    "            i+=1\n",
    "        j+=1\n",
    "    return i == len(sub)\n",
    "result = find_subsequent(sub, main_string)\n",
    "result\n",
    "\n",
    "\n"
   ]
  },
  {
   "cell_type": "code",
   "execution_count": 9,
   "metadata": {},
   "outputs": [
    {
     "name": "stdout",
     "output_type": "stream",
     "text": [
      "No not subsequent\n"
     ]
    }
   ],
   "source": [
    "# i want to know if one string is exactly part of another string with the same order\n",
    "sub = 'ston'\n",
    "main_string = 'shingelton'\n",
    "\n",
    "if sub in main_string:\n",
    "    print(f' yesss string is subsequent')\n",
    "else:\n",
    "\n",
    "    print('No not subsequent')\n",
    "\n",
    "\n"
   ]
  },
  {
   "cell_type": "code",
   "execution_count": 3,
   "metadata": {},
   "outputs": [
    {
     "name": "stdout",
     "output_type": "stream",
     "text": [
      "the pivot index is :3\n"
     ]
    }
   ],
   "source": [
    "# find pivot index\n",
    "#the pivot index is the index where the sum of all the numbers strictly to the left of the index is equal to the sum of all the numbers strictly to the index's right.\n",
    "\n",
    "nums = [1,7,3,6,5,6]\n",
    "# index = 3 is pivot index because nums[3] = 6 and from right hand side and left hand side of 6 the sum of all elements are the same \n",
    "# left hand side of 6 --> 1 + 7 + 3 = 11\n",
    "# right hand side of 6 --> 5 + 6 = 11\n",
    "\n",
    "for i in range(len(nums)):\n",
    "    if sum(nums[:i]) == sum(nums[i + 1:]):\n",
    "        print(f'the pivot index is :{i}')\n",
    "    "
   ]
  },
  {
   "cell_type": "code",
   "execution_count": 1,
   "metadata": {},
   "outputs": [
    {
     "name": "stdout",
     "output_type": "stream",
     "text": [
      "3\n",
      "[[1 2 3]\n",
      " [4 5 6]\n",
      " [7 8 9]]\n",
      "1\n",
      "2\n"
     ]
    }
   ],
   "source": [
    "# diagonal traverse\n",
    "# Given an m x n matrix mat, return an array of all the elements of the array in a diagonal order.\n",
    "\n",
    "import numpy as np\n",
    "\n",
    "mat = [[1,2,3],[4,5,6],[7,8,9]]\n",
    "Output: [1,2,4,7,5,3,6,8,9]\n",
    "\n",
    "nums = np.array(mat)\n",
    "nums\n",
    "print(len(nums))\n",
    "print(nums)\n",
    "print(nums[0][0])\n",
    "print(nums[0][1])"
   ]
  },
  {
   "cell_type": "code",
   "execution_count": 22,
   "metadata": {},
   "outputs": [
    {
     "name": "stdout",
     "output_type": "stream",
     "text": [
      "1\n",
      "4\n",
      "2\n"
     ]
    }
   ],
   "source": [
    "# for i in range(len(nums)):\n",
    "print(nums[0][0])\n",
    "print(nums[1][0])\n",
    "print(nums[0][1])"
   ]
  },
  {
   "cell_type": "code",
   "execution_count": 12,
   "metadata": {},
   "outputs": [
    {
     "name": "stdout",
     "output_type": "stream",
     "text": [
      "Diagonal 0: [1]\n",
      "Diagonal 1: [2, 4]\n",
      "Diagonal 2: [3, 5, 7]\n",
      "Diagonal 3: [6, 8]\n",
      "Diagonal 4: [9]\n"
     ]
    }
   ],
   "source": [
    "def find_diagonals(matrix):\n",
    "    # if not matrix or not matrix[0]:\n",
    "    #     return []\n",
    "\n",
    "    diagonals = {}\n",
    "    rows, cols = len(matrix), len(matrix[0])\n",
    "\n",
    "    for i in range(rows):\n",
    "        for j in range(cols):\n",
    "            if i + j not in diagonals:\n",
    "                diagonals[i + j] = []\n",
    "            diagonals[i + j].append(matrix[i][j])\n",
    "\n",
    "    # Print the diagonals\n",
    "    for k in sorted(diagonals.keys()):\n",
    "        print(f\"Diagonal {k}: {diagonals[k]}\")\n",
    "find_diagonals(nums)\n",
    "\n",
    "        \n",
    "\n",
    "\n",
    "\n",
    "\n",
    "\n",
    "    "
   ]
  },
  {
   "cell_type": "code",
   "execution_count": 2,
   "metadata": {},
   "outputs": [
    {
     "name": "stdout",
     "output_type": "stream",
     "text": [
      "1\n",
      "2\n",
      "3\n",
      "4\n",
      "5\n",
      "6\n",
      "7\n",
      "8\n",
      "9\n",
      "{0: [1], 1: [2, 4], 2: [3, 5, 7], 3: [6, 8], 4: [9]}\n",
      "[1, 2, 4, 7, 5, 3, 6, 8, 9]\n"
     ]
    }
   ],
   "source": [
    "diagonals = {}\n",
    "my_list = []\n",
    "for i in range(len(nums)):\n",
    "    for j in range(len(nums)):\n",
    "        print(nums[i][j])\n",
    "        if i + j not in diagonals:\n",
    "\n",
    "            diagonals[i + j] = []\n",
    "        diagonals[i + j].append(nums[i][j])\n",
    "print(diagonals)\n",
    "\n",
    "for k in sorted(diagonals.keys()):\n",
    "    if k %2 == 0:\n",
    "        diagonals[k].sort(reverse = True)\n",
    "    my_list.extend(diagonals[k])\n",
    "print(my_list)\n",
    "    \n"
   ]
  },
  {
   "cell_type": "code",
   "execution_count": 1,
   "metadata": {},
   "outputs": [
    {
     "name": "stdout",
     "output_type": "stream",
     "text": [
      "[[1 2 3]\n",
      " [4 5 6]\n",
      " [7 8 9]]\n",
      "3\n"
     ]
    }
   ],
   "source": [
    "import numpy as np\n",
    "# spiral matrix\n",
    "# Given an m x n matrix, return all elements of the matrix in spiral order.\n",
    "matrix = [[1,2,3],[4,5,6],[7,8,9]]\n",
    "Output = [1,2,3,6,9,8,7,4,5]\n",
    "matrix = np.array(matrix)\n",
    "print(matrix)\n",
    "print(len(matrix))\n"
   ]
  },
  {
   "cell_type": "code",
   "execution_count": 9,
   "metadata": {},
   "outputs": [
    {
     "name": "stdout",
     "output_type": "stream",
     "text": [
      "[1, 2, 3, 6, 9, 8, 7, 4, 5]\n"
     ]
    }
   ],
   "source": [
    "\n",
    "def spiral_order(matrix):\n",
    "    if not matrix or not matrix[0]:\n",
    "        return []\n",
    "\n",
    "    left = 0\n",
    "    right = len(matrix[0]) - 1\n",
    "    top = 0\n",
    "    bottom = len(matrix) - 1\n",
    "    result = []\n",
    "\n",
    "    while left <= right and top <= bottom:\n",
    "        # Traverse from left to right along the top row\n",
    "        for j in range(left, right + 1):\n",
    "            result.append(matrix[top][j])\n",
    "        top += 1  # Move the top boundary down\n",
    "\n",
    "        # Traverse from top to bottom along the right column\n",
    "        for i in range(top, bottom + 1):\n",
    "            result.append(matrix[i][right])\n",
    "        right -= 1  # Move the right boundary left\n",
    "\n",
    "        if top <= bottom:\n",
    "            # Traverse from right to left along the bottom row\n",
    "            for j in range(right, left - 1, -1):\n",
    "                result.append(matrix[bottom][j])\n",
    "            bottom -= 1  # Move the bottom boundary up\n",
    "\n",
    "        if left <= right:\n",
    "            # Traverse from bottom to top along the left column\n",
    "            for i in range(bottom, top - 1, -1):\n",
    "                result.append(matrix[i][left])\n",
    "            left += 1  # Move the left boundary right\n",
    "\n",
    "    return result\n",
    "\n",
    "# Example matrix\n",
    "matrix = [\n",
    "    [1, 2, 3],\n",
    "    [4, 5, 6],\n",
    "    [7, 8, 9]\n",
    "]\n",
    "\n",
    "result = spiral_order(matrix)\n",
    "print(result)\n",
    "        \n",
    "\n",
    "\n",
    "\n",
    "\n",
    "\n",
    "        \n"
   ]
  },
  {
   "cell_type": "code",
   "execution_count": 1,
   "metadata": {},
   "outputs": [
    {
     "data": {
      "text/plain": [
       "[[1], [1, 1], [1, 1], [1, 2, 1], [1, 3, 3, 1], [1, 4, 6, 4, 1]]"
      ]
     },
     "execution_count": 1,
     "metadata": {},
     "output_type": "execute_result"
    }
   ],
   "source": [
    "Output = [[1],[1,1],[1,2,1],[1,3,3,1],[1,4,6,4,1]]\n",
    "\n",
    "# pascal triangle\n",
    "#Given an integer numRows, return the first numRows of Pascal's triangle.\n",
    "\n",
    "#In Pascal's triangle, each number is the sum of the two numbers directly above it as shown:\n",
    "\n",
    "numrows = 5\n",
    "\n",
    "def generate_pascal_triangle(numrows):\n",
    "    if numrows == 0:\n",
    "        return []\n",
    "    \n",
    "    triangle = [[1]] # initialize the triangle\n",
    "\n",
    "    for i in range(numrows):\n",
    "        prev_row = triangle[-1]\n",
    "        new_row = [1]\n",
    "        for j in range(1, i):\n",
    "            new_row.append(prev_row[j - 1] + prev_row[j])\n",
    "        new_row.append(1)\n",
    "        triangle.append(new_row)\n",
    "    return triangle\n",
    "tri = generate_pascal_triangle(5)\n",
    "tri\n",
    "\n",
    "\n"
   ]
  },
  {
   "cell_type": "code",
   "execution_count": 4,
   "metadata": {},
   "outputs": [
    {
     "name": "stdout",
     "output_type": "stream",
     "text": [
      "[[1], [1, 1], [1, 2, 1], [1, 3, 3, 1], [1, 4, 6, 4, 1]]\n"
     ]
    }
   ],
   "source": [
    "Output = [[1],[1,1],[1,2,1],[1,3,3,1],[1,4,6,4,1]]\n",
    "\n",
    "def generate_pascals_triangle(numRows):\n",
    "    if numRows == 0:\n",
    "        return []\n",
    "    \n",
    "    triangle = [[1]]  # Initialize with the first row\n",
    "    \n",
    "    for i in range(1, numRows):\n",
    "        prev_row = triangle[-1]              # Get the last row from the triangle\n",
    "        new_row = [1]                        # Start with 1\n",
    "        \n",
    "        # Compute the values for the new row\n",
    "        for j in range(1, i):\n",
    "            new_row.append(prev_row[j - 1] + prev_row[j])\n",
    "        \n",
    "        new_row.append(1)                     # End with 1\n",
    "        triangle.append(new_row)              # Add the new row to the triangle\n",
    "    \n",
    "    return triangle\n",
    "\n",
    "# Example usage:\n",
    "numRows = 5\n",
    "print(generate_pascals_triangle(numRows))"
   ]
  },
  {
   "cell_type": "code",
   "execution_count": null,
   "metadata": {},
   "outputs": [],
   "source": []
  }
 ],
 "metadata": {
  "kernelspec": {
   "display_name": "myenv",
   "language": "python",
   "name": "python3"
  },
  "language_info": {
   "codemirror_mode": {
    "name": "ipython",
    "version": 3
   },
   "file_extension": ".py",
   "mimetype": "text/x-python",
   "name": "python",
   "nbconvert_exporter": "python",
   "pygments_lexer": "ipython3",
   "version": "3.10.12"
  }
 },
 "nbformat": 4,
 "nbformat_minor": 2
}
