{
 "cells": [
  {
   "cell_type": "markdown",
   "metadata": {},
   "source": [
    "### Valid Palindrom"
   ]
  },
  {
   "cell_type": "markdown",
   "metadata": {},
   "source": [
    "A phrase is a palindrome if, after converting all uppercase letters into lowercase letters and removing all non-alphanumeric characters, it reads the same forward and backward. Alphanumeric characters include letters and numbers.\n",
    "\n",
    "Given a string s, return true if it is a palindrome, or false otherwise.\n",
    "\n",
    " \n",
    "\n",
    "Example 1:\n",
    "\n",
    "Input: s = \"A man, a plan, a canal: Panama\"\n",
    "Output: true\n",
    "Explanation: \"amanaplanacanalpanama\" is a palindrome.\n",
    "Example 2:\n",
    "\n",
    "Input: s = \"race a car\"\n",
    "Output: false\n",
    "Explanation: \"raceacar\" is not a palindrome.\n",
    "Example 3:\n",
    "\n",
    "Input: s = \" \"\n",
    "Output: true\n",
    "Explanation: s is an empty string \"\" after removing non-alphanumeric characters.\n",
    "Since an empty string reads the same forward and backward, it is a palindrome.\n",
    " "
   ]
  },
  {
   "cell_type": "markdown",
   "metadata": {},
   "source": [
    "#### A quick test"
   ]
  },
  {
   "cell_type": "code",
   "execution_count": 11,
   "metadata": {},
   "outputs": [
    {
     "name": "stdout",
     "output_type": "stream",
     "text": [
      "amanaplanacanalpanama"
     ]
    }
   ],
   "source": [
    "def palindrom_phrase(s):\n",
    "    for char in s:\n",
    "        if char.isalnum():\n",
    "            print(char, end = '')\n",
    "        \n",
    "        \n",
    "        \n",
    "s = 'a man, a plan, a canal: panama'\n",
    "\n",
    "        \n",
    "palindrom_phrase(s)\n",
    "        "
   ]
  },
  {
   "cell_type": "markdown",
   "metadata": {},
   "source": [
    "### Plindrome Phrase"
   ]
  },
  {
   "cell_type": "code",
   "execution_count": 24,
   "metadata": {},
   "outputs": [
    {
     "name": "stdout",
     "output_type": "stream",
     "text": [
      "palindrome\n",
      "not palindrom\n",
      "not palindrom\n",
      "palindrom\n"
     ]
    }
   ],
   "source": [
    "def palindrom_phrase(s):\n",
    "    p1 = 0\n",
    "    s_new = ''.join(char for char in s if char.isalnum())\n",
    "    # print(s_new)\n",
    "\n",
    "    p2 = len(s_new) - 1\n",
    "    while p1 <= len(s_new)//2:\n",
    "        if s_new == \"\":\n",
    "            return 'palindrom'\n",
    "        else:\n",
    "            \n",
    "            if s_new[p1] != s_new[p2]:\n",
    "                return 'not palindrom'\n",
    "        p1+=1\n",
    "        p2 -=1\n",
    "        \n",
    "    return 'palindrome'\n",
    "print(palindrom_phrase('a man, a plan, a canal: panama'))\n",
    "print(palindrom_phrase('a man in a car'))\n",
    "print(palindrom_phrase('race a car'))\n",
    "print(palindrom_phrase(\" \"))\n",
    "\n",
    "        "
   ]
  }
 ],
 "metadata": {
  "kernelspec": {
   "display_name": "Python 3",
   "language": "python",
   "name": "python3"
  },
  "language_info": {
   "codemirror_mode": {
    "name": "ipython",
    "version": 3
   },
   "file_extension": ".py",
   "mimetype": "text/x-python",
   "name": "python",
   "nbconvert_exporter": "python",
   "pygments_lexer": "ipython3",
   "version": "3.10.12"
  }
 },
 "nbformat": 4,
 "nbformat_minor": 2
}
