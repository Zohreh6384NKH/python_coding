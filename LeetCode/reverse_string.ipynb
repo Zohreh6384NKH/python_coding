{
 "cells": [
  {
   "cell_type": "markdown",
   "metadata": {},
   "source": [
    "### Reverse string"
   ]
  },
  {
   "cell_type": "markdown",
   "metadata": {},
   "source": [
    "Write a function that reverses a string. The input string is given as an array of characters s.\n",
    "\n",
    "You must do this by modifying the input array in-place with O(1) extra memory.\n",
    "\n",
    " \n",
    "\n",
    "Example 1:\n",
    "\n",
    "Input: s = [\"h\",\"e\",\"l\",\"l\",\"o\"]\n",
    "Output: [\"o\",\"l\",\"l\",\"e\",\"h\"]\n",
    "Example 2:\n",
    "\n",
    "Input: s = [\"H\",\"a\",\"n\",\"n\",\"a\",\"h\"]\n",
    "Output: [\"h\",\"a\",\"n\",\"n\",\"a\",\"H\"]\n",
    " "
   ]
  },
  {
   "cell_type": "code",
   "execution_count": 7,
   "metadata": {},
   "outputs": [
    {
     "name": "stdout",
     "output_type": "stream",
     "text": [
      "['o', 'l', 'l', 'e', 'h']\n",
      "['h', 'a', 'n', 'n', 'a', 'H']\n",
      "['M', 'L', 'l', 'E', 'u']\n"
     ]
    }
   ],
   "source": [
    "def reverse_string(nums):\n",
    "    p = 0\n",
    "    q = len(nums) -1 \n",
    "    while p < q:\n",
    "        temp = nums[p]\n",
    "        nums[p] = nums[q]\n",
    "        nums[q] = temp\n",
    "        p+=1\n",
    "        q-=1\n",
    "    return nums\n",
    "output_1 = reverse_string([\"h\",\"e\",\"l\",\"l\",\"o\"])\n",
    "output_2 = reverse_string([\"H\",\"a\",\"n\",\"n\",\"a\",\"h\"])\n",
    "output_3 = reverse_string([\"u\",\"E\",\"l\",\"L\",\"M\"])\n",
    "\n",
    "print(output_1)\n",
    "print(output_2)\n",
    "print(output_3)\n",
    "\n",
    "\n",
    "        "
   ]
  }
 ],
 "metadata": {
  "kernelspec": {
   "display_name": "Python 3",
   "language": "python",
   "name": "python3"
  },
  "language_info": {
   "codemirror_mode": {
    "name": "ipython",
    "version": 3
   },
   "file_extension": ".py",
   "mimetype": "text/x-python",
   "name": "python",
   "nbconvert_exporter": "python",
   "pygments_lexer": "ipython3",
   "version": "3.10.12"
  }
 },
 "nbformat": 4,
 "nbformat_minor": 2
}
