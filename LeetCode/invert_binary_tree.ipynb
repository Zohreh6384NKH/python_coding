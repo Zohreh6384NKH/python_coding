{
 "cells": [
  {
   "cell_type": "markdown",
   "metadata": {},
   "source": [
    "### Invert Binary Tree"
   ]
  },
  {
   "cell_type": "markdown",
   "metadata": {},
   "source": [
    "#### Pseudo Code\n"
   ]
  },
  {
   "cell_type": "markdown",
   "metadata": {},
   "source": [
    "function invert_tree(node):\n",
    "    if node is null:\n",
    "        return null\n",
    "\n",
    "    # swap the left and right children\n",
    "    node.right, node.left = node.left, node.right\n",
    "\n",
    "    # recursively invert the left and right subrtrees\n",
    "     invert_tree(node.right)\n",
    "     invert_tree(node.left)\n",
    "\n",
    "        return node\n",
    "\n"
   ]
  },
  {
   "cell_type": "markdown",
   "metadata": {},
   "source": [
    "## Invert Binary Tree(Python code)"
   ]
  },
  {
   "cell_type": "code",
   "execution_count": 7,
   "metadata": {},
   "outputs": [
    {
     "name": "stdout",
     "output_type": "stream",
     "text": [
      "4\n",
      "6\n",
      "5\n"
     ]
    }
   ],
   "source": [
    "# defivition for a binary tree node\n",
    "class TreeNode:\n",
    "    def __init__(self, val = 0, left = None, right = None):\n",
    "        self.val = val\n",
    "        self.right = right\n",
    "        self.left = left\n",
    "        \n",
    "class Solution:\n",
    "    def InvertTree(self, root = TreeNode):\n",
    "        if not root:\n",
    "            return None\n",
    "        #swap the children\n",
    "        temp = root.left\n",
    "        root.left = root.right\n",
    "        root.right = temp\n",
    "        \n",
    "        self.InvertTree(root.left)\n",
    "        self.InvertTree(root.right)\n",
    "        return root\n",
    "    \n",
    "root = TreeNode(4)\n",
    "root.right = TreeNode(5)\n",
    "root.left = TreeNode(6)\n",
    "\n",
    "solution = Solution()\n",
    "inverted_root = solution.InvertTree(root)\n",
    "print(inverted_root.val)\n",
    "print(inverted_root.right.val)\n",
    "print(inverted_root.left.val)        \n",
    "    \n",
    "\n",
    "\n",
    "    \n",
    "\n",
    "    "
   ]
  },
  {
   "cell_type": "markdown",
   "metadata": {},
   "source": []
  }
 ],
 "metadata": {
  "kernelspec": {
   "display_name": "Python 3",
   "language": "python",
   "name": "python3"
  },
  "language_info": {
   "codemirror_mode": {
    "name": "ipython",
    "version": 3
   },
   "file_extension": ".py",
   "mimetype": "text/x-python",
   "name": "python",
   "nbconvert_exporter": "python",
   "pygments_lexer": "ipython3",
   "version": "3.10.12"
  }
 },
 "nbformat": 4,
 "nbformat_minor": 2
}
