{
 "cells": [
  {
   "cell_type": "code",
   "execution_count": 1,
   "metadata": {},
   "outputs": [
    {
     "name": "stdout",
     "output_type": "stream",
     "text": [
      "Slope (m): 0.8300000000000001\n",
      "Intercept (b): 1.33\n",
      "Predictions: [2.16 2.99 3.82 4.65 5.48]\n"
     ]
    }
   ],
   "source": [
    "import numpy as np\n",
    "\n",
    "class SimpleLinearRegression:\n",
    "    def __init__(self):\n",
    "        self.slope = 0\n",
    "        self.intercept = 0\n",
    "\n",
    "    def fit(self, X, y):\n",
    "        # Convert to NumPy arrays for easier calculations\n",
    "        X = np.array(X)\n",
    "        y = np.array(y)\n",
    "        \n",
    "        # Calculate the mean of X and y\n",
    "        X_mean = np.mean(X)\n",
    "        y_mean = np.mean(y)\n",
    "        \n",
    "        # Calculate the numerator and denominator for the slope (m)\n",
    "        numerator = np.sum((X - X_mean) * (y - y_mean))\n",
    "        denominator = np.sum((X - X_mean) ** 2)\n",
    "        self.slope = numerator / denominator\n",
    "        \n",
    "        # Calculate the intercept (b)\n",
    "        self.intercept = y_mean - (self.slope * X_mean)\n",
    "    \n",
    "    def predict(self, X):\n",
    "        X = np.array(X)\n",
    "        return self.slope * X + self.intercept\n",
    "\n",
    "# Example usage:\n",
    "# Sample dataset\n",
    "X = [1, 2, 3, 4, 5]\n",
    "y = [2.2, 2.8, 4.5, 3.7, 5.9]\n",
    "\n",
    "# Create and train the model\n",
    "model = SimpleLinearRegression()\n",
    "model.fit(X, y)\n",
    "\n",
    "# Print the slope and intercept\n",
    "print(\"Slope (m):\", model.slope)\n",
    "print(\"Intercept (b):\", model.intercept)\n",
    "\n",
    "# Make predictions\n",
    "predictions = model.predict([1, 2, 3, 4, 5])\n",
    "print(\"Predictions:\", predictions)"
   ]
  },
  {
   "cell_type": "markdown",
   "metadata": {},
   "source": [
    "### visualization for linear regression"
   ]
  },
  {
   "cell_type": "code",
   "execution_count": null,
   "metadata": {},
   "outputs": [],
   "source": []
  }
 ],
 "metadata": {
  "kernelspec": {
   "display_name": "Python 3",
   "language": "python",
   "name": "python3"
  },
  "language_info": {
   "codemirror_mode": {
    "name": "ipython",
    "version": 3
   },
   "file_extension": ".py",
   "mimetype": "text/x-python",
   "name": "python",
   "nbconvert_exporter": "python",
   "pygments_lexer": "ipython3",
   "version": "3.10.12"
  }
 },
 "nbformat": 4,
 "nbformat_minor": 2
}
