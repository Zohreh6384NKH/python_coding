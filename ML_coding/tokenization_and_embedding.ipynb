{
 "cells": [
  {
   "cell_type": "markdown",
   "metadata": {},
   "source": [
    "#### Tokenization and Embedding"
   ]
  },
  {
   "cell_type": "code",
   "execution_count": null,
   "metadata": {},
   "outputs": [
    {
     "name": "stdout",
     "output_type": "stream",
     "text": [
      "{'input_ids': tensor([[ 101, 7592, 1010, 2129, 2024, 2017, 1029,  102]]), 'token_type_ids': tensor([[0, 0, 0, 0, 0, 0, 0, 0]]), 'attention_mask': tensor([[1, 1, 1, 1, 1, 1, 1, 1]])}\n",
      "torch.Size([768])\n",
      "torch.Size([1, 8, 768])\n"
     ]
    }
   ],
   "source": [
    "import torch\n",
    "from transformers import AutoTokenizer, AutoModel\n",
    "\n",
    "\n",
    "tokenizer = AutoTokenizer.from_pretrained('bert-base-uncased')\n",
    "model = AutoModel.from_pretrained('bert-base-uncased')\n",
    "\n",
    "prompt = 'Hello, how are you?'\n",
    "inputs = tokenizer(prompt, return_tensors = 'pt')\n",
    "\n",
    "#get embeddings from BERT\n",
    "print(inputs)\n",
    "outputs = model(**inputs)\n",
    "output = outputs.last_hidden_state\n",
    "print(output[0][0].shape)  #get the 768-dimensional embedding for the [CLS] token\n",
    "print(output[0][1].shape)  #gives the embedding for the token \"Hello\"\n",
    "print(output.shape)"
   ]
  },
  {
   "cell_type": "code",
   "execution_count": 5,
   "metadata": {},
   "outputs": [
    {
     "name": "stdout",
     "output_type": "stream",
     "text": [
      "hello ali what is your age 23\n",
      "hello ali what is your age 23\n"
     ]
    }
   ],
   "source": [
    "def greet(name, age):\n",
    "    print(f'hello {name} what is your age {age}')\n",
    "\n",
    "dict = {'name': 'ali', 'age': 23}   \n",
    "greet(**dict)\n",
    "greet('ali', 23)"
   ]
  }
 ],
 "metadata": {
  "kernelspec": {
   "display_name": "Python 3",
   "language": "python",
   "name": "python3"
  },
  "language_info": {
   "codemirror_mode": {
    "name": "ipython",
    "version": 3
   },
   "file_extension": ".py",
   "mimetype": "text/x-python",
   "name": "python",
   "nbconvert_exporter": "python",
   "pygments_lexer": "ipython3",
   "version": "3.10.12"
  }
 },
 "nbformat": 4,
 "nbformat_minor": 2
}
