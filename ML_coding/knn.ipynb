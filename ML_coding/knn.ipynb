{
 "cells": [
  {
   "cell_type": "code",
   "execution_count": 1,
   "metadata": {},
   "outputs": [
    {
     "name": "stdout",
     "output_type": "stream",
     "text": [
      "Predictions: [np.int64(0), np.int64(0)]\n"
     ]
    }
   ],
   "source": [
    "import numpy as np\n",
    "from collections import Counter\n",
    "\n",
    "class KNN:\n",
    "    def __init__(self, k=3):\n",
    "        \"\"\"\n",
    "        Initializes the KNN model with a specified number of neighbors (k).\n",
    "        \"\"\"\n",
    "        self.k = k\n",
    "\n",
    "    def fit(self, X, y):\n",
    "        \"\"\"\n",
    "        Stores the training data.\n",
    "        \n",
    "        Parameters:\n",
    "        X (array-like): Training data features with shape (m, n), where m is the number of samples\n",
    "                        and n is the number of features.\n",
    "        y (array-like): Training data labels with shape (m,).\n",
    "        \"\"\"\n",
    "        self.X_train = np.array(X)\n",
    "        self.y_train = np.array(y)\n",
    "\n",
    "    def predict(self, X):\n",
    "        \"\"\"\n",
    "        Predicts the class labels for the given test data.\n",
    "        \n",
    "        Parameters:\n",
    "        X (array-like): Test data features with shape (p, n), where p is the number of test samples.\n",
    "        \n",
    "        Returns:\n",
    "        array: Predicted class labels for the test data.\n",
    "        \"\"\"\n",
    "        X = np.array(X)\n",
    "        predictions = []\n",
    "        \n",
    "        for x in X:\n",
    "            # Calculate Euclidean distances from the current test point to all training points\n",
    "            distances = np.linalg.norm(self.X_train - x, axis=1)\n",
    "            # Get the labels of the k nearest neighbors\n",
    "            k_indices = np.argsort(distances)[:self.k]\n",
    "            k_nearest_labels = self.y_train[k_indices]\n",
    "            # Determine the most common class label\n",
    "            most_common = Counter(k_nearest_labels).most_common(1)[0][0]\n",
    "            predictions.append(most_common)\n",
    "        \n",
    "        return predictions\n",
    "\n",
    "# Example usage:\n",
    "if __name__ == \"__main__\":\n",
    "    # Sample training data\n",
    "    X_train = [[1, 2], [2, 3], [3, 4], [6, 7], [7, 8], [8, 9]]\n",
    "    y_train = [0, 0, 0, 1, 1, 1]  # Labels for the training data\n",
    "\n",
    "    # Sample test data\n",
    "    X_test = [[5, 5], [2, 2]]\n",
    "\n",
    "    # Create and train the KNN model\n",
    "    knn = KNN(k=3)\n",
    "    knn.fit(X_train, y_train)\n",
    "\n",
    "    # Make predictions\n",
    "    predictions = knn.predict(X_test)\n",
    "    print(\"Predictions:\", predictions)"
   ]
  }
 ],
 "metadata": {
  "kernelspec": {
   "display_name": "Python 3",
   "language": "python",
   "name": "python3"
  },
  "language_info": {
   "codemirror_mode": {
    "name": "ipython",
    "version": 3
   },
   "file_extension": ".py",
   "mimetype": "text/x-python",
   "name": "python",
   "nbconvert_exporter": "python",
   "pygments_lexer": "ipython3",
   "version": "3.10.12"
  }
 },
 "nbformat": 4,
 "nbformat_minor": 2
}
