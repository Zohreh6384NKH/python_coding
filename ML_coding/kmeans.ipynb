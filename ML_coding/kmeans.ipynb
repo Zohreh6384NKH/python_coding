{
 "cells": [
  {
   "cell_type": "markdown",
   "metadata": {
    "vscode": {
     "languageId": "plaintext"
    }
   },
   "source": [
    "### Kmeans algorithm"
   ]
  },
  {
   "cell_type": "markdown",
   "metadata": {},
   "source": [
    "K-means clustering is a popular unsupervised machine learning algorithm used for grouping similar data points into k - clusters. Goal: to partition a given dataset into k (predefined) clusters.\n",
    "\n",
    "The k-means algorithm works by first randomly initializing k cluster centers, one for each cluster. Each data point in the dataset is then assigned to the nearest cluster center based on their distance. The distance metric used is typically Euclidean distance, but other distance measures such as Manhattan distance or cosine similarity can also be used.\n",
    "\n",
    "After all the data points have been assigned to a cluster, the algorithm calculates the new mean for each cluster by taking the average of all the data points assigned to that cluster. These new means become the new cluster centers. The algorithm then repeats the assignment and mean calculation steps until the cluster assignments no longer change or until a maximum number of iterations is reached.\n",
    "\n",
    "The final output of the k-means algorithm is a set of k clusters, where each cluster contains the data points that are most similar to each other based on the distance metric used. The algorithm is commonly used in various fields such as image segmentation, market segmentation, and customer profiling."
   ]
  },
  {
   "cell_type": "code",
   "execution_count": null,
   "metadata": {},
   "outputs": [],
   "source": [
    "import numpy as np\n",
    "## implement kmeans clustering from scratch \n",
    "class kmeans:\n",
    "    def __init__(self, k, max_iteration, cluster):\n",
    "        self.k = k\n",
    "        self.max_iteration = max_iteration\n",
    "        \n",
    "    def fit(self, X):\n",
    "        \n",
    "        # initialize centroid\n",
    "        self.centroid = X[np.random.choice(len(range(X)), self.k)]\n",
    "        \n",
    "        # assign each data point to its nearest centroid\n",
    "        for j in range(self.max_iteration):\n",
    "            cluster_assignment = np.zeros(len(X), dtype = int)\n",
    "            for i in range(len(X)):\n",
    "            \n",
    "                distances = np.linalg.norm(X[j] - self.centroid, axis = 1)\n",
    "                cluster_assignment[j] = np.argmin(distances)\n",
    "            #update centroids\n",
    "            new_centroid = np.copy(self.centroids)\n",
    "            for k in range(self.k):\n",
    "                cluster_data_points = X[cluster_assignment == k]\n",
    "                if len(cluster_data_points > 0):\n",
    "                    new_centroid[k] = np.mean(cluster_data_points)\n",
    "            self.centroid = new_centroid\n",
    "        self.cluster_assignment = cluster_assignment\n",
    "                \n",
    "            \n",
    "        \n",
    "        \n",
    "        \n",
    "    def predict(self, ):\n",
    "        \n",
    "        # Assign each data point to the nearest centroid\n",
    "        cluster_assignments = []\n",
    "        for j in range(len(X)):\n",
    "            distances = np.linalg.norm(X[j] - self.centroids, axis=1)\n",
    "            cluster_assignments.append(np.argmin(distances))\n",
    "        return cluster_assignments\n",
    "        "
   ]
  }
 ],
 "metadata": {
  "kernelspec": {
   "display_name": "Python 3",
   "language": "python",
   "name": "python3"
  },
  "language_info": {
   "codemirror_mode": {
    "name": "ipython",
    "version": 3
   },
   "file_extension": ".py",
   "mimetype": "text/x-python",
   "name": "python",
   "nbconvert_exporter": "python",
   "pygments_lexer": "ipython3",
   "version": "3.10.12"
  }
 },
 "nbformat": 4,
 "nbformat_minor": 2
}
