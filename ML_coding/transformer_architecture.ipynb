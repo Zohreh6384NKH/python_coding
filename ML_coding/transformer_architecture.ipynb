{
 "cells": [
  {
   "cell_type": "markdown",
   "metadata": {},
   "source": [
    "#### Transformer Architecture"
   ]
  },
  {
   "cell_type": "code",
   "execution_count": null,
   "metadata": {},
   "outputs": [],
   "source": [
    "import torch\n",
    "import torch.nn as nn\n",
    "\n",
    "class TransformerBlock(nn.Module):\n",
    "    def __init__(self, embed_dim, num_heads):\n",
    "        super().__init__(TransformerBlock, self)\n",
    "        \n",
    "        self.attention = nn.MultiheadAttention(embed_dim, num_heads)\n",
    "        self.feed_forward =nn.Sequential(\n",
    "            nn.Linear(embed_dim, 4*embed_dim),\n",
    "            nn.ReLU(),\n",
    "            nn.Linear(4*embed_dim, embed_dim)\n",
    "        )\n",
    "        self.layer_norm_1 = nn.LayerNorm(embed_dim),\n",
    "        self.layer_norm_2 = nn.LayrNorm(embed_dim)\n",
    "        \n",
    "    def forward(self, x):\n",
    "        output_att = self.attention(x,x,x)\n",
    "        x = self.layer_norm_1(x + output_att)  # add x (the original input) to attn_output to retain the original information. then normalize the result improving stability\n",
    "        ff_output = self.feed_forward(x)\n",
    "        x = self.layer_norm_2(x + ff_output)\n",
    "        return x\n",
    "        \n",
    "        \n",
    "    "
   ]
  }
 ],
 "metadata": {
  "kernelspec": {
   "display_name": "Python 3",
   "language": "python",
   "name": "python3"
  },
  "language_info": {
   "name": "python",
   "version": "3.10.12"
  }
 },
 "nbformat": 4,
 "nbformat_minor": 2
}
