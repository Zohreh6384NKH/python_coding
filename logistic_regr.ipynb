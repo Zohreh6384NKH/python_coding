{
 "cells": [
  {
   "cell_type": "code",
   "execution_count": 40,
   "id": "2519ed82-b247-4560-b58d-a2bc13b1ab31",
   "metadata": {},
   "outputs": [],
   "source": [
    "\n",
    "\n",
    "import pandas as pd \n",
    "import numpy as np \n",
    "import matplotlib.pyplot as plt\n"
   ]
  },
  {
   "cell_type": "code",
   "execution_count": 4,
   "id": "df3d6b5f-e3c1-4c56-9b97-0a670b2cab65",
   "metadata": {},
   "outputs": [
    {
     "data": {
      "text/html": [
       "<div>\n",
       "<style scoped>\n",
       "    .dataframe tbody tr th:only-of-type {\n",
       "        vertical-align: middle;\n",
       "    }\n",
       "\n",
       "    .dataframe tbody tr th {\n",
       "        vertical-align: top;\n",
       "    }\n",
       "\n",
       "    .dataframe thead th {\n",
       "        text-align: right;\n",
       "    }\n",
       "</style>\n",
       "<table border=\"1\" class=\"dataframe\">\n",
       "  <thead>\n",
       "    <tr style=\"text-align: right;\">\n",
       "      <th></th>\n",
       "      <th>hours studied</th>\n",
       "      <th>passed(1=yes, 0=no)</th>\n",
       "    </tr>\n",
       "  </thead>\n",
       "  <tbody>\n",
       "    <tr>\n",
       "      <th>0</th>\n",
       "      <td>1</td>\n",
       "      <td>0</td>\n",
       "    </tr>\n",
       "    <tr>\n",
       "      <th>1</th>\n",
       "      <td>2</td>\n",
       "      <td>0</td>\n",
       "    </tr>\n",
       "    <tr>\n",
       "      <th>2</th>\n",
       "      <td>3</td>\n",
       "      <td>0</td>\n",
       "    </tr>\n",
       "    <tr>\n",
       "      <th>3</th>\n",
       "      <td>4</td>\n",
       "      <td>1</td>\n",
       "    </tr>\n",
       "    <tr>\n",
       "      <th>4</th>\n",
       "      <td>5</td>\n",
       "      <td>1</td>\n",
       "    </tr>\n",
       "    <tr>\n",
       "      <th>5</th>\n",
       "      <td>6</td>\n",
       "      <td>1</td>\n",
       "    </tr>\n",
       "  </tbody>\n",
       "</table>\n",
       "</div>"
      ],
      "text/plain": [
       "   hours studied  passed(1=yes, 0=no)\n",
       "0              1                    0\n",
       "1              2                    0\n",
       "2              3                    0\n",
       "3              4                    1\n",
       "4              5                    1\n",
       "5              6                    1"
      ]
     },
     "execution_count": 4,
     "metadata": {},
     "output_type": "execute_result"
    }
   ],
   "source": [
    "#we want to predict if a student will pass(1) or fail(0) an exam based on the number of hours they study\n",
    "\n",
    "df = pd.DataFrame({\n",
    "    \"hours studied\":[1,2,3,4,5,6],\n",
    "    \"passed(1=yes, 0=no)\":[0, 0, 0,1, 1, 1]\n",
    "}\n",
    ")\n",
    "df"
   ]
  },
  {
   "cell_type": "code",
   "execution_count": 13,
   "id": "1c796b80-b9b7-4cc2-86bb-8293a177e98c",
   "metadata": {},
   "outputs": [],
   "source": [
    "X = df[\"hours studied\"]"
   ]
  },
  {
   "cell_type": "code",
   "execution_count": 14,
   "id": "528885e9-454a-42cc-b847-d0972a47d606",
   "metadata": {},
   "outputs": [
    {
     "data": {
      "text/plain": [
       "0    0\n",
       "1    0\n",
       "2    0\n",
       "3    1\n",
       "4    1\n",
       "5    1\n",
       "Name: passed(1=yes, 0=no), dtype: int64"
      ]
     },
     "execution_count": 14,
     "metadata": {},
     "output_type": "execute_result"
    }
   ],
   "source": [
    "y = df[\"passed(1=yes, 0=no)\"]\n",
    "y"
   ]
  },
  {
   "cell_type": "code",
   "execution_count": 20,
   "id": "4bae1bd1-9665-4ab0-bf75-de69042f5636",
   "metadata": {},
   "outputs": [],
   "source": [
    "#if we use linear regression we get the value may be less than 0 or more than 1\n",
    "#but with logistic regression with sigmoid function we map any number to a value between 0 and 1\n",
    "\n",
    "def sigmoid(z):\n",
    "    return 1 / (1 + np.exp(-z))"
   ]
  },
  {
   "cell_type": "code",
   "execution_count": 21,
   "id": "a4b98533-b796-487a-b8e7-8f2ced8c749f",
   "metadata": {},
   "outputs": [],
   "source": [
    "#initialize the weights\n",
    "w = 0\n",
    "b = 0\n",
    "\n",
    "#learning rate and epochs\n",
    "lr = 0.01\n",
    "epochs = 10\n",
    "n = len(X)\n"
   ]
  },
  {
   "cell_type": "code",
   "execution_count": 26,
   "id": "e3ad2839-78ae-42e8-88d2-5e10b4b5fb71",
   "metadata": {},
   "outputs": [
    {
     "name": "stdout",
     "output_type": "stream",
     "text": [
      "trained values:0.107 and -0.010\n"
     ]
    }
   ],
   "source": [
    "\n",
    "#training \n",
    "for epoch in range(epochs):\n",
    "    z = w*X + b\n",
    "    y_pred = sigmoid(z)\n",
    "\n",
    "    #compute the gradients\n",
    "    dw = (1/n)*np.dot(X,(y_pred - y))\n",
    "    db = (1/n)*np.sum(y_pred - y)\n",
    "\n",
    "    w -= lr*dw\n",
    "    b -= lr*db\n",
    "print(f\"trained values:{w:.3f} and {b:.3f}\")\n",
    "\n",
    "def predict(x):\n",
    "    y = w*x + b\n",
    "    return sigmoid(y)\n",
    "\n",
    "\n",
    "\n",
    "\n",
    "    \n",
    "    \n"
   ]
  },
  {
   "cell_type": "code",
   "execution_count": 36,
   "id": "320e92c6-772a-4c17-9bd6-02386aeab43b",
   "metadata": {},
   "outputs": [
    {
     "data": {
      "text/plain": [
       "np.float64(0.5905310649396471)"
      ]
     },
     "execution_count": 36,
     "metadata": {},
     "output_type": "execute_result"
    }
   ],
   "source": [
    "test_hours = 3.5\n",
    "y_predicted = predict(test_hours)\n",
    "y_predicted"
   ]
  },
  {
   "cell_type": "code",
   "execution_count": 38,
   "id": "6d04feb0-0f07-4543-9323-e56809947370",
   "metadata": {},
   "outputs": [
    {
     "name": "stdout",
     "output_type": "stream",
     "text": [
      "predicted values :0.59\n",
      "0.5905310649396471 pass\n"
     ]
    }
   ],
   "source": [
    "print(f\"predicted values :{y_predicted:.2f}\")\n",
    "print(y_predicted, \"pass\" if y_predicted > 0.5 else \"fail\")"
   ]
  },
  {
   "cell_type": "code",
   "execution_count": 42,
   "id": "a2b7f081-730a-4fa3-b114-3e8da3ff7cad",
   "metadata": {},
   "outputs": [
    {
     "data": {
      "text/plain": [
       "[<matplotlib.lines.Line2D at 0x7d5d12381f70>]"
      ]
     },
     "execution_count": 42,
     "metadata": {},
     "output_type": "execute_result"
    },
    {
     "data": {
      "image/png": "[encoded data removed]",
      "text/plain": [
       "<Figure size 640x480 with 1 Axes>"
      ]
     },
     "metadata": {},
     "output_type": "display_data"
    }
   ],
   "source": [
    "#plot\n",
    "plt.plot(X, y, color = 'red', marker='o')"
   ]
  },
  {
   "cell_type": "code",
   "execution_count": 49,
   "id": "15b2ac65-25ae-489f-8bdc-024dbf9c2a01",
   "metadata": {},
   "outputs": [
    {
     "data": {
      "image/png": "[encoded data removed]",
      "text/plain": [
       "<Figure size 640x480 with 1 Axes>"
      ]
     },
     "metadata": {},
     "output_type": "display_data"
    }
   ],
   "source": [
    "x_line = np.linspace(0, 7, 100)\n",
    "y_line = sigmoid(x_line)\n",
    "plt.plot(x_line, y_line, color = 'blue')\n",
    "plt.xlabel(\"hours studied\")\n",
    "\n",
    "plt.ylabel(\"probability of passing\")\n",
    "plt.show()"
   ]
  },
  {
   "cell_type": "code",
   "execution_count": null,
   "id": "3e3036c6-883d-4b26-a4b8-8d02964c36f9",
   "metadata": {},
   "outputs": [],
   "source": [
    "#A confusion matrix is a table that shows how a classification model performs by comparing predicted results with actual outcomes.\n",
    "#It breaks down predictions into true positives, true negatives, false positives, and false negatives, which helps us calculate key metrics like precision, \n",
    "#recall, and F1 score. It's especially important when class distribution is imbalanced, as it gives more insight than accuracy alone.\"\n",
    "# actually we want to know how many times our model was right and how many times our model was wrong\n",
    "\n"
   ]
  },
  {
   "cell_type": "code",
   "execution_count": null,
   "id": "e4d0da43-c2cd-4f40-b817-a0d2ce3ab69b",
   "metadata": {},
   "outputs": [],
   "source": []
  }
 ],
 "metadata": {
  "kernelspec": {
   "display_name": "Python 3 (ipykernel)",
   "language": "python",
   "name": "python3"
  },
  "language_info": {
   "codemirror_mode": {
    "name": "ipython",
    "version": 3
   },
   "file_extension": ".py",
   "mimetype": "text/x-python",
   "name": "python",
   "nbconvert_exporter": "python",
   "pygments_lexer": "ipython3",
   "version": "3.12.11"
  }
 },
 "nbformat": 4,
 "nbformat_minor": 5
}
