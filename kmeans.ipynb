{
 "cells": [
  {
   "cell_type": "code",
   "execution_count": null,
   "id": "80843f63-3ffb-4c65-ad2e-2e29cf4a6676",
   "metadata": {},
   "outputs": [],
   "source": [
    "#kmeans is an unsuprevised learning algorithm that groups data into k clusters\n",
    "#so the idea is randomly selecting  k initial centroid\n",
    "# then we calculate the euclidean distance between each datapoint and each of thoses centroid point\n",
    "#assign each datapoint  to its nearests centroid and calculate the mean of each cluster and repeat the process until convergence\n"
   ]
  },
  {
   "cell_type": "code",
   "execution_count": 15,
   "id": "cb65f271-3475-4bfe-9c64-7c14a1287a57",
   "metadata": {},
   "outputs": [
    {
     "data": {
      "text/plain": [
       "array([[ 1,  2],\n",
       "       [ 1,  4],\n",
       "       [ 8,  4],\n",
       "       [10,  2],\n",
       "       [10,  4],\n",
       "       [10, 10]])"
      ]
     },
     "execution_count": 15,
     "metadata": {},
     "output_type": "execute_result"
    }
   ],
   "source": [
    "import numpy as np\n",
    "import matplotlib.pyplot as plt\n",
    "from sklearn.cluster import KMeans\n",
    "\n",
    "\n",
    "X = np.array([[1,2], [1, 4], [8,4], [10,2], [10,4], [10, 10]])\n",
    "X\n"
   ]
  },
  {
   "cell_type": "code",
   "execution_count": 16,
   "id": "0917e134-20bf-4eed-a650-d2c787463d67",
   "metadata": {},
   "outputs": [
    {
     "data": {
      "image/png": "[encoded data removed]",
      "text/plain": [
       "<Figure size 640x480 with 1 Axes>"
      ]
     },
     "metadata": {},
     "output_type": "display_data"
    }
   ],
   "source": [
    "x_1 = X[:,0]\n",
    "x_2 = X[:,1]\n",
    "\n",
    "plt.scatter(x_1,x_2, color='red')\n",
    "plt.show()"
   ]
  },
  {
   "cell_type": "code",
   "execution_count": 23,
   "id": "904c1735-c86b-4878-95f7-db176c856476",
   "metadata": {},
   "outputs": [
    {
     "data": {
      "text/plain": [
       "array([1, 1, 0, 0, 0, 0], dtype=int32)"
      ]
     },
     "execution_count": 23,
     "metadata": {},
     "output_type": "execute_result"
    }
   ],
   "source": [
    "kmeans = KMeans(n_clusters=2)\n",
    "kmeans.fit(X)\n",
    "labels = kmeans.predict(X)\n",
    "labels\n"
   ]
  },
  {
   "cell_type": "code",
   "execution_count": 34,
   "id": "a5e9407d-a444-43b8-8152-156465192aca",
   "metadata": {},
   "outputs": [
    {
     "data": {
      "image/png": "[encoded data removed]",
      "text/plain": [
       "<Figure size 640x480 with 1 Axes>"
      ]
     },
     "metadata": {},
     "output_type": "display_data"
    }
   ],
   "source": [
    "colors = [\"blue\", \"red\"]\n",
    "for i in range(2):\n",
    "    cluster_points = X[labels == i]\n",
    "    plt.scatter(cluster_points[:, 0], cluster_points[:, 1], color=colors[i])\n",
    "plt.scatter(kmeans.cluster_centers_[:, 0],kmeans.cluster_centers_[:, 1], color=\"green\")\n",
    "plt.show()"
   ]
  },
  {
   "cell_type": "code",
   "execution_count": 36,
   "id": "4e02437a-8de8-4cca-83ed-6561de47c854",
   "metadata": {},
   "outputs": [
    {
     "data": {
      "text/plain": [
       "array([0, 0], dtype=int32)"
      ]
     },
     "execution_count": 36,
     "metadata": {},
     "output_type": "execute_result"
    }
   ],
   "source": [
    "kmeans.predict(np.array([[10,6], [10, 4]]))"
   ]
  },
  {
   "cell_type": "code",
   "execution_count": null,
   "id": "5f90c7de-5827-4749-b2fb-fed7c1508047",
   "metadata": {},
   "outputs": [],
   "source": [
    "\n",
    "\n"
   ]
  },
  {
   "cell_type": "code",
   "execution_count": 62,
   "id": "69a35962-8b8a-4bc8-b967-b0919eae871f",
   "metadata": {},
   "outputs": [
    {
     "name": "stdout",
     "output_type": "stream",
     "text": [
      "[[[2 7]]\n",
      "\n",
      " [[3 4]]\n",
      "\n",
      " [[5 6]]]\n",
      "==================================================\n",
      "[[2 7]\n",
      " [5 6]]\n"
     ]
    }
   ],
   "source": [
    "x = np.array([[2,7],[3,4],[5,6]])\n",
    "indices = np.random.choice(len(x), size=2, replace=False)\n",
    "# print(x[indices].shape)\n",
    "# print(x[:, np.newaxis].shape)\n",
    "print(x[:, np.newaxis])\n",
    "print(\"=\"*50)\n",
    "print(x[indices])\n"
   ]
  },
  {
   "cell_type": "code",
   "execution_count": 63,
   "id": "1622dfe5-8a1f-476d-b85b-a414837575ef",
   "metadata": {},
   "outputs": [
    {
     "data": {
      "text/plain": [
       "array([[[ 0,  0],\n",
       "        [-3,  1]],\n",
       "\n",
       "       [[ 1, -3],\n",
       "        [-2, -2]],\n",
       "\n",
       "       [[ 3, -1],\n",
       "        [ 0,  0]]])"
      ]
     },
     "execution_count": 63,
     "metadata": {},
     "output_type": "execute_result"
    }
   ],
   "source": [
    "diff = x[:, np.newaxis] - x[indices]\n",
    "diff"
   ]
  },
  {
   "cell_type": "code",
   "execution_count": 65,
   "id": "4946a7b3-aec3-4b27-bcc6-b8d4246f0c6d",
   "metadata": {},
   "outputs": [
    {
     "data": {
      "text/plain": [
       "array([[0.        , 3.16227766],\n",
       "       [3.16227766, 2.82842712],\n",
       "       [3.16227766, 0.        ]])"
      ]
     },
     "execution_count": 65,
     "metadata": {},
     "output_type": "execute_result"
    }
   ],
   "source": [
    "dist = np.linalg.norm(diff, axis=2)\n",
    "dist"
   ]
  },
  {
   "cell_type": "code",
   "execution_count": 72,
   "id": "b59a048b-e7b4-49a0-828b-1106ba7d4fdd",
   "metadata": {},
   "outputs": [
    {
     "data": {
      "text/plain": [
       "array([[[1, 2],\n",
       "        [3, 4]],\n",
       "\n",
       "       [[5, 6],\n",
       "        [7, 8]]])"
      ]
     },
     "execution_count": 72,
     "metadata": {},
     "output_type": "execute_result"
    }
   ],
   "source": [
    "x = np.array([[[1,2],[3,4]], [[5,6],[7,8]]])\n",
    "x"
   ]
  },
  {
   "cell_type": "code",
   "execution_count": 69,
   "id": "cb08449f-d842-43d7-aa47-bc95fa1f9650",
   "metadata": {},
   "outputs": [
    {
     "data": {
      "text/plain": [
       "(2, 2, 2)"
      ]
     },
     "execution_count": 69,
     "metadata": {},
     "output_type": "execute_result"
    }
   ],
   "source": [
    "x.shape"
   ]
  },
  {
   "cell_type": "code",
   "execution_count": 70,
   "id": "7171b197-dcd5-4129-9b53-bbd22f57a18d",
   "metadata": {},
   "outputs": [
    {
     "data": {
      "text/plain": [
       "array([[ 6,  8],\n",
       "       [10, 12]])"
      ]
     },
     "execution_count": 70,
     "metadata": {},
     "output_type": "execute_result"
    }
   ],
   "source": [
    "x.sum(axis=0)"
   ]
  },
  {
   "cell_type": "code",
   "execution_count": 71,
   "id": "12b44bc7-27b1-46b0-85ee-4929709d5621",
   "metadata": {},
   "outputs": [
    {
     "data": {
      "text/plain": [
       "array([[ 4,  6],\n",
       "       [12, 14]])"
      ]
     },
     "execution_count": 71,
     "metadata": {},
     "output_type": "execute_result"
    }
   ],
   "source": [
    "x.sum(axis=1)"
   ]
  },
  {
   "cell_type": "code",
   "execution_count": 73,
   "id": "78f813a9-e37e-41ce-a01b-eec750801bb6",
   "metadata": {},
   "outputs": [
    {
     "data": {
      "text/plain": [
       "array([[ 3,  7],\n",
       "       [11, 15]])"
      ]
     },
     "execution_count": 73,
     "metadata": {},
     "output_type": "execute_result"
    }
   ],
   "source": [
    "x.sum(axis=2)"
   ]
  },
  {
   "cell_type": "code",
   "execution_count": 74,
   "id": "3753d6fd-3d81-43dd-86ef-db40f1fc9151",
   "metadata": {},
   "outputs": [
    {
     "data": {
      "text/plain": [
       "array([[1, 2],\n",
       "       [3, 4],\n",
       "       [5, 6]])"
      ]
     },
     "execution_count": 74,
     "metadata": {},
     "output_type": "execute_result"
    }
   ],
   "source": [
    "y = np.array([[1,2], [3,4], [5,6]])\n",
    "y"
   ]
  },
  {
   "cell_type": "code",
   "execution_count": 75,
   "id": "578c8ebb-64de-44d4-a1e9-81aca9f28825",
   "metadata": {},
   "outputs": [
    {
     "data": {
      "text/plain": [
       "(3, 2)"
      ]
     },
     "execution_count": 75,
     "metadata": {},
     "output_type": "execute_result"
    }
   ],
   "source": [
    "y.shape"
   ]
  },
  {
   "cell_type": "code",
   "execution_count": 78,
   "id": "c272573f-dab4-4c81-b988-ac25d657e84c",
   "metadata": {},
   "outputs": [
    {
     "data": {
      "text/plain": [
       "array([ 3,  7, 11])"
      ]
     },
     "execution_count": 78,
     "metadata": {},
     "output_type": "execute_result"
    }
   ],
   "source": [
    "y.sum(axis=1)"
   ]
  },
  {
   "cell_type": "code",
   "execution_count": 77,
   "id": "b4007c03-d43c-48a0-9121-0910861fbb69",
   "metadata": {},
   "outputs": [
    {
     "data": {
      "text/plain": [
       "array([ 9, 12])"
      ]
     },
     "execution_count": 77,
     "metadata": {},
     "output_type": "execute_result"
    }
   ],
   "source": [
    "y.sum(axis=0)"
   ]
  },
  {
   "cell_type": "code",
   "execution_count": 88,
   "id": "60b02d05-6b52-4ad8-a39e-9b505f218675",
   "metadata": {},
   "outputs": [
    {
     "data": {
      "text/plain": [
       "array([2.23606798, 5.        , 7.81024968])"
      ]
     },
     "execution_count": 88,
     "metadata": {},
     "output_type": "execute_result"
    }
   ],
   "source": [
    "dist = np.linalg.norm(y, axis=1)\n",
    "dist"
   ]
  },
  {
   "cell_type": "code",
   "execution_count": 91,
   "id": "448d9dc8-aa47-4be7-94b6-bc551a5d3791",
   "metadata": {},
   "outputs": [
    {
     "data": {
      "text/plain": [
       "np.int64(0)"
      ]
     },
     "execution_count": 91,
     "metadata": {},
     "output_type": "execute_result"
    }
   ],
   "source": [
    "np.argmin(dist, axis=0)"
   ]
  },
  {
   "cell_type": "code",
   "execution_count": 104,
   "id": "0859d6b2-2e7d-423d-b4ea-ca1709cffec1",
   "metadata": {},
   "outputs": [],
   "source": [
    "import numpy as np\n",
    "import matplotlib.pyplot as plt\n",
    "\n",
    "\n",
    "\n",
    "X = np.array([[1,2],\n",
    "             [1,4],\n",
    "             [1,0],\n",
    "             [6,3],\n",
    "             [10,4],\n",
    "             [10,0],\n",
    "             [8, 2]])\n",
    "\n",
    "\n"
   ]
  },
  {
   "cell_type": "code",
   "execution_count": 105,
   "id": "74f39b38-32e9-428b-b6dc-a941eb788d34",
   "metadata": {},
   "outputs": [
    {
     "data": {
      "text/plain": [
       "array([[ 1,  2],\n",
       "       [ 1,  4],\n",
       "       [ 1,  0],\n",
       "       [ 6,  3],\n",
       "       [10,  4],\n",
       "       [10,  0],\n",
       "       [ 8,  2]])"
      ]
     },
     "execution_count": 105,
     "metadata": {},
     "output_type": "execute_result"
    }
   ],
   "source": [
    "X"
   ]
  },
  {
   "cell_type": "code",
   "execution_count": 106,
   "id": "7bed9791-9ca2-4d23-b448-f74eb8b09cec",
   "metadata": {},
   "outputs": [
    {
     "data": {
      "image/png": "[encoded data removed]",
      "text/plain": [
       "<Figure size 640x480 with 1 Axes>"
      ]
     },
     "metadata": {},
     "output_type": "display_data"
    }
   ],
   "source": [
    "x1 = X[:, 0]\n",
    "x2 = X[:,1]\n",
    "plt.scatter(x1, x2, color=\"green\")\n",
    "plt.show()"
   ]
  },
  {
   "cell_type": "code",
   "execution_count": 107,
   "id": "84e98599-96f4-4a69-9f3a-20238dcb43c7",
   "metadata": {},
   "outputs": [
    {
     "data": {
      "text/plain": [
       "array([6, 3])"
      ]
     },
     "execution_count": 107,
     "metadata": {},
     "output_type": "execute_result"
    }
   ],
   "source": [
    "#step1 initialize the centroid\n",
    "k = 2\n",
    "#create random indices\n",
    "random_indices = np.random.choice(len(X), size=k, replace=False)\n",
    "random_indices"
   ]
  },
  {
   "cell_type": "code",
   "execution_count": 108,
   "id": "e8bb165c-fb65-4a4f-b313-2292bf0eaf75",
   "metadata": {},
   "outputs": [
    {
     "data": {
      "text/plain": [
       "array([[8, 2],\n",
       "       [6, 3]])"
      ]
     },
     "execution_count": 108,
     "metadata": {},
     "output_type": "execute_result"
    }
   ],
   "source": [
    "centroids = X[random_indices]\n",
    "centroids"
   ]
  },
  {
   "cell_type": "code",
   "execution_count": 109,
   "id": "a0dfa9b7-4e6c-45f1-b167-8bf3c9b39d65",
   "metadata": {},
   "outputs": [
    {
     "data": {
      "text/plain": [
       "(7, 2)"
      ]
     },
     "execution_count": 109,
     "metadata": {},
     "output_type": "execute_result"
    }
   ],
   "source": [
    "X.shape"
   ]
  },
  {
   "cell_type": "code",
   "execution_count": 110,
   "id": "cc37cc13-b64f-4c0b-a662-ac7350ddb1d6",
   "metadata": {},
   "outputs": [
    {
     "data": {
      "text/plain": [
       "(2, 2)"
      ]
     },
     "execution_count": 110,
     "metadata": {},
     "output_type": "execute_result"
    }
   ],
   "source": [
    "centroids.shape"
   ]
  },
  {
   "cell_type": "code",
   "execution_count": 112,
   "id": "bfe9f90b-c171-418c-838f-01ecc0908910",
   "metadata": {},
   "outputs": [
    {
     "data": {
      "text/plain": [
       "array([[[-7,  0],\n",
       "        [-5, -1]],\n",
       "\n",
       "       [[-7,  2],\n",
       "        [-5,  1]],\n",
       "\n",
       "       [[-7, -2],\n",
       "        [-5, -3]],\n",
       "\n",
       "       [[-2,  1],\n",
       "        [ 0,  0]],\n",
       "\n",
       "       [[ 2,  2],\n",
       "        [ 4,  1]],\n",
       "\n",
       "       [[ 2, -2],\n",
       "        [ 4, -3]],\n",
       "\n",
       "       [[ 0,  0],\n",
       "        [ 2, -1]]])"
      ]
     },
     "execution_count": 112,
     "metadata": {},
     "output_type": "execute_result"
    }
   ],
   "source": [
    "diff = X[:, np.newaxis]- centroids\n",
    "diff"
   ]
  },
  {
   "cell_type": "code",
   "execution_count": 114,
   "id": "e72a4882-abe0-4a33-96d8-682a72abe02e",
   "metadata": {},
   "outputs": [
    {
     "data": {
      "text/plain": [
       "array([[7.        , 5.09901951],\n",
       "       [7.28010989, 5.09901951],\n",
       "       [7.28010989, 5.83095189],\n",
       "       [2.23606798, 0.        ],\n",
       "       [2.82842712, 4.12310563],\n",
       "       [2.82842712, 5.        ],\n",
       "       [0.        , 2.23606798]])"
      ]
     },
     "execution_count": 114,
     "metadata": {},
     "output_type": "execute_result"
    }
   ],
   "source": [
    "dist = np.linalg.norm(diff, axis=2)\n",
    "dist"
   ]
  },
  {
   "cell_type": "code",
   "execution_count": 115,
   "id": "67311589-a177-4680-b943-156a392e31fb",
   "metadata": {},
   "outputs": [
    {
     "data": {
      "text/plain": [
       "(7, 2)"
      ]
     },
     "execution_count": 115,
     "metadata": {},
     "output_type": "execute_result"
    }
   ],
   "source": [
    "dist.shape"
   ]
  },
  {
   "cell_type": "code",
   "execution_count": 116,
   "id": "d19fc9d1-7d25-4c7c-89ec-96dd9ddd59e9",
   "metadata": {},
   "outputs": [
    {
     "data": {
      "text/plain": [
       "array([6, 3])"
      ]
     },
     "execution_count": 116,
     "metadata": {},
     "output_type": "execute_result"
    }
   ],
   "source": [
    "# labels = np.argmin(dist, axis=0)\n",
    "# labels"
   ]
  },
  {
   "cell_type": "code",
   "execution_count": 117,
   "id": "dcdbfa0e-10dc-42e5-891a-dd828d1eb897",
   "metadata": {},
   "outputs": [
    {
     "data": {
      "text/plain": [
       "array([1, 1, 1, 1, 0, 0, 0])"
      ]
     },
     "execution_count": 117,
     "metadata": {},
     "output_type": "execute_result"
    }
   ],
   "source": [
    "labels = np.argmin(dist, axis=1)\n",
    "labels"
   ]
  },
  {
   "cell_type": "code",
   "execution_count": 123,
   "id": "6afdb9fa-ad81-4da0-a5a5-e1a8a6b7020b",
   "metadata": {},
   "outputs": [
    {
     "name": "stdout",
     "output_type": "stream",
     "text": [
      "iteration:1\n",
      "new centroids:[[9.33333333 2.        ]\n",
      " [2.25       2.25      ]]\n",
      "iteration:2\n",
      "new centroids:[[8.5  2.25]\n",
      " [1.   2.  ]]\n",
      "iteration:3\n",
      "new centroids:[[8.5  2.25]\n",
      " [1.   2.  ]]\n",
      "converged\n"
     ]
    },
    {
     "data": {
      "image/png": "[encoded data removed]",
      "text/plain": [
       "<Figure size 640x480 with 1 Axes>"
      ]
     },
     "metadata": {},
     "output_type": "display_data"
    }
   ],
   "source": [
    "max_iter = 5\n",
    "for i in range(5):\n",
    "    print(f\"iteration:{i+1}\")\n",
    "    distances = np.linalg.norm(X[:, np.newaxis] - centroids, axis=2)\n",
    "    labels = np.argmin(distances, axis=1)\n",
    "    #update the centroids\n",
    "    new_centroids = np.array([X[labels == j].mean(axis=0) for j in range(k)])\n",
    "    print(f\"new centroids:{new_centroids}\")\n",
    "\n",
    "    if np.all(centroids == new_centroids):\n",
    "        print(\"converged\")\n",
    "        break\n",
    "\n",
    "    centroids = new_centroids\n",
    "\n",
    "colors = [\"red\", \"blue\"]\n",
    "for j in range(k):\n",
    "    \n",
    "    plt.scatter(X[labels==j][:, 0], X[labels ==j][:, 1], color=colors[j])\n",
    "plt.scatter(centroids[:, 0], centroids[:, 1], color='black', marker=\"o\")\n",
    "plt.show()\n",
    "    \n",
    "    \n",
    "    \n",
    "    "
   ]
  },
  {
   "cell_type": "code",
   "execution_count": null,
   "id": "dd0f8f6d-059f-42a0-92a5-fa2087f4d922",
   "metadata": {},
   "outputs": [],
   "source": []
  },
  {
   "cell_type": "code",
   "execution_count": null,
   "id": "080f2f34-dcdf-4342-8011-7f356308383c",
   "metadata": {},
   "outputs": [],
   "source": []
  },
  {
   "cell_type": "code",
   "execution_count": null,
   "id": "c1dba4fc-305b-468e-9ecf-42794dc32823",
   "metadata": {},
   "outputs": [],
   "source": []
  }
 ],
 "metadata": {
  "kernelspec": {
   "display_name": "Python 3 (ipykernel)",
   "language": "python",
   "name": "python3"
  },
  "language_info": {
   "codemirror_mode": {
    "name": "ipython",
    "version": 3
   },
   "file_extension": ".py",
   "mimetype": "text/x-python",
   "name": "python",
   "nbconvert_exporter": "python",
   "pygments_lexer": "ipython3",
   "version": "3.12.11"
  }
 },
 "nbformat": 4,
 "nbformat_minor": 5
}
