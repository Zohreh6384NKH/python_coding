{
 "cells": [
  {
   "cell_type": "code",
   "execution_count": null,
   "id": "ef38e494-f41d-4786-9943-eee9e75a960b",
   "metadata": {},
   "outputs": [],
   "source": [
    "#create bootstrap dataset from the original dtaset\n",
    "# train decision tree on each bootstraped dtaaset and for this we use decision tree from sklearn \n",
    "#combine the predictions using majority voting"
   ]
  },
  {
   "cell_type": "code",
   "execution_count": 27,
   "id": "8cab2575-79b9-42c0-92fd-1575764d84ff",
   "metadata": {},
   "outputs": [],
   "source": [
    "import numpy as np\n",
    "from sklearn.tree import DecisionTreeClassifier\n",
    "from collections import Counter"
   ]
  },
  {
   "cell_type": "code",
   "execution_count": 28,
   "id": "94d819c1-28fc-475d-adba-ccc47c13a8fc",
   "metadata": {},
   "outputs": [],
   "source": [
    "\n",
    "\n",
    "X = np.array([[1,1],\n",
    "             [1,2],\n",
    "             [2,1],\n",
    "             [2,2],\n",
    "             [3,1],\n",
    "             [3,2],\n",
    "             [4,1],\n",
    "             [4,2]])\n",
    "\n",
    "y = np.array([0,0,0,0,1,1,1,1])"
   ]
  },
  {
   "cell_type": "code",
   "execution_count": 29,
   "id": "5b85aed1-96b1-4abb-a744-d15109a9005a",
   "metadata": {},
   "outputs": [],
   "source": [
    "def bootstrap_sample(X, y):\n",
    "    n_sample = X.shape[0]\n",
    "    indices = np.random.choice(n_sample, size=n_sample, replace=True)\n",
    "    return X[indices], y[indices]\n",
    "    # print(indices)\n",
    "    # print(X[indices])\n",
    "    # print(y[indices])"
   ]
  },
  {
   "cell_type": "code",
   "execution_count": 30,
   "id": "625fd997-25de-4e33-ba5b-8d3bca2e7b5a",
   "metadata": {},
   "outputs": [],
   "source": [
    "#train multiple decision tree on bootstraped samples\n",
    "\n",
    "def train_bagging(X, y, n_estimators=5):\n",
    "    trees = []\n",
    "    for i  in range(n_estimators):\n",
    "        X_sample, y_sample = bootstrap_sample(X, y)\n",
    "        tree = DecisionTreeClassifier()\n",
    "        tree.fit(X_sample, y_sample)\n",
    "        trees.append(tree)\n",
    "    return trees\n",
    "    "
   ]
  },
  {
   "cell_type": "code",
   "execution_count": 44,
   "id": "80792051-145d-4c90-a851-9c59fa83bdd2",
   "metadata": {},
   "outputs": [
    {
     "name": "stdout",
     "output_type": "stream",
     "text": [
      "[0 0 0 0 1 1 1 1]\n"
     ]
    }
   ],
   "source": [
    "#predict by majority voting\n",
    "def predict_bagging(X, trees):\n",
    "    #collect predictions from each tree\n",
    "    preds = np.array([tree.predict(X) for tree in trees])\n",
    "    preds = preds.T\n",
    "    y_pred = []\n",
    "    for pred in preds:\n",
    "        vote = Counter(pred).most_common(1)[0][0]\n",
    "        y_pred.append(vote)\n",
    "    return np.array(y_pred)\n",
    "\n",
    "trees = train_bagging(X,y, n_estimators=5)\n",
    "predictions = predict_bagging(X,trees)\n",
    "print(predictions)\n",
    "\n",
    "        \n",
    "    "
   ]
  },
  {
   "cell_type": "code",
   "execution_count": 6,
   "id": "139ce54c-b8b6-431c-b767-17950f5c0d76",
   "metadata": {},
   "outputs": [
    {
     "data": {
      "text/plain": [
       "8"
      ]
     },
     "execution_count": 6,
     "metadata": {},
     "output_type": "execute_result"
    }
   ],
   "source": [
    "X.shape[0]"
   ]
  },
  {
   "cell_type": "code",
   "execution_count": null,
   "id": "84c210c7-6d93-4c1c-bb31-60fd637e1a49",
   "metadata": {},
   "outputs": [],
   "source": [
    "n_sample = X.shape[0]"
   ]
  },
  {
   "cell_type": "code",
   "execution_count": 9,
   "id": "2c00a506-3502-4f7a-9f47-a3f291221b6b",
   "metadata": {},
   "outputs": [
    {
     "data": {
      "text/plain": [
       "array([0, 1, 2, 3])"
      ]
     },
     "execution_count": 9,
     "metadata": {},
     "output_type": "execute_result"
    }
   ],
   "source": [
    "np.arange(4)"
   ]
  },
  {
   "cell_type": "code",
   "execution_count": 11,
   "id": "65d1acbf-c85d-4ee2-819c-03d3936b620f",
   "metadata": {},
   "outputs": [
    {
     "data": {
      "text/plain": [
       "array([1, 3, 2, 4, 4, 1])"
      ]
     },
     "execution_count": 11,
     "metadata": {},
     "output_type": "execute_result"
    }
   ],
   "source": [
    "np.random.choice(5,6)"
   ]
  },
  {
   "cell_type": "code",
   "execution_count": 36,
   "id": "42486119-0d66-4dae-9ac9-46fe9f931f71",
   "metadata": {},
   "outputs": [
    {
     "data": {
      "text/plain": [
       "array(0)"
      ]
     },
     "execution_count": 36,
     "metadata": {},
     "output_type": "execute_result"
    }
   ],
   "source": [
    "np.array(np.int64(0))"
   ]
  },
  {
   "cell_type": "code",
   "execution_count": 47,
   "id": "b2cec78e-d31b-415e-b2ee-f8e40a25e03e",
   "metadata": {},
   "outputs": [
    {
     "data": {
      "text/plain": [
       "(8, 2)"
      ]
     },
     "execution_count": 47,
     "metadata": {},
     "output_type": "execute_result"
    }
   ],
   "source": [
    "X = np.array([[1,0],\n",
    "            [1,1],\n",
    "            [2,1],\n",
    "            [2,2],\n",
    "            [3,1],\n",
    "            [3,2],\n",
    "            [4,1],\n",
    "            [4,2]])\n",
    "y = np.array([0, 0, 0, 0, 1, 1, 1, 1])\n",
    "X.shape\n",
    "\n",
    "\n"
   ]
  },
  {
   "cell_type": "code",
   "execution_count": 49,
   "id": "9269eafa-230e-4f2f-9d79-076640e053e0",
   "metadata": {},
   "outputs": [
    {
     "data": {
      "text/plain": [
       "array([7, 0, 3, 4, 6, 0, 2, 2])"
      ]
     },
     "execution_count": 49,
     "metadata": {},
     "output_type": "execute_result"
    }
   ],
   "source": [
    "n_samples = X.shape[0]\n",
    "indices = np.random.choice(n_samples, size=n_samples, replace=True)\n",
    "indices"
   ]
  },
  {
   "cell_type": "code",
   "execution_count": 50,
   "id": "4129ee2d-7955-4d4f-a87c-e94d5d638b2a",
   "metadata": {},
   "outputs": [
    {
     "name": "stdout",
     "output_type": "stream",
     "text": [
      "[[1 2]\n",
      " [1 2]\n",
      " [4 2]\n",
      " [3 2]\n",
      " [4 2]\n",
      " [1 2]\n",
      " [1 2]\n",
      " [2 1]] [0 0 1 1 1 0 0 0]\n",
      "[[4 1]\n",
      " [1 1]\n",
      " [4 2]\n",
      " [4 1]\n",
      " [1 2]\n",
      " [2 1]\n",
      " [3 1]\n",
      " [2 1]] [1 0 1 1 0 0 1 0]\n",
      "[[3 2]\n",
      " [2 1]\n",
      " [3 2]\n",
      " [1 2]\n",
      " [2 1]\n",
      " [4 1]\n",
      " [2 2]\n",
      " [1 2]] [1 0 1 0 0 1 0 0]\n",
      "[[2 2]\n",
      " [1 2]\n",
      " [2 1]\n",
      " [1 1]\n",
      " [3 2]\n",
      " [4 1]\n",
      " [3 2]\n",
      " [2 1]] [0 0 0 0 1 1 1 0]\n",
      "[[1 2]\n",
      " [3 1]\n",
      " [3 2]\n",
      " [3 1]\n",
      " [3 2]\n",
      " [4 2]\n",
      " [3 1]\n",
      " [1 2]] [0 1 1 1 1 1 1 0]\n"
     ]
    }
   ],
   "source": [
    "def bootstrap_sample(X, y):\n",
    "    \n",
    "    n_estimators = 5\n",
    "    \n",
    "    for i in range(n_estimators):\n",
    "        indices = np.random.choice(n_samples, size=n_samples, replace=True)\n",
    "        return X[indices], y[indices]"
   ]
  },
  {
   "cell_type": "code",
   "execution_count": 81,
   "id": "62179f0a-e92e-457f-86d1-0572c8b6f780",
   "metadata": {},
   "outputs": [],
   "source": [
    "def build_trees(X, y):\n",
    "    trees = []\n",
    "    for i in range(n_estimators):\n",
    "        bootstraped_X, bootstraped_y = bootstrap_sample(X, y)\n",
    "        tree = DecisionTreeClassifier()\n",
    "        tree.fit(bootstraped_X, bootstraped_y)\n",
    "        trees.append(tree)\n",
    "    return trees\n",
    "\n",
    "trees = build_trees(X, y)\n",
    "        "
   ]
  },
  {
   "cell_type": "code",
   "execution_count": 82,
   "id": "30bc256d-ede0-4c14-aab1-e65ae1cc8c95",
   "metadata": {},
   "outputs": [
    {
     "data": {
      "text/plain": [
       "array([3, 0, 2, 1])"
      ]
     },
     "execution_count": 82,
     "metadata": {},
     "output_type": "execute_result"
    }
   ],
   "source": [
    "n_samples = X_n.shape[0]\n",
    "indices = np.random.choice(n_samples, size=n_samples, replace=True)\n",
    "indices"
   ]
  },
  {
   "cell_type": "code",
   "execution_count": 83,
   "id": "870aa5b7-b3c0-4a6f-8d0d-261d8f72dda8",
   "metadata": {
    "scrolled": true
   },
   "outputs": [
    {
     "data": {
      "text/plain": [
       "array([0, 0, 1, 1])"
      ]
     },
     "execution_count": 83,
     "metadata": {},
     "output_type": "execute_result"
    }
   ],
   "source": [
    "def predict_bagging(trees, X):\n",
    "    #collect predictions\n",
    "    y_pred = []\n",
    "    preds = np.array([tree.predict(X) for tree in trees])\n",
    "    preds = preds.T\n",
    "    for pred in preds:\n",
    "        vote = Counter(pred).most_common(1)[0][0]\n",
    "        # print(vote)\n",
    "        y_pred.append(vote)\n",
    "    return np.array(y_pred)\n",
    "    \n",
    "X_n = np.array([[1,0],[1,1],[2,0], [2,1]])\n",
    "y_n = np.array([0, 0, 1, 1])\n",
    "predictions = predict_bagging(trees, X)\n",
    "predictions"
   ]
  },
  {
   "cell_type": "code",
   "execution_count": null,
   "id": "a1f0fa8b-884c-4a1b-8316-21adcb8e5711",
   "metadata": {},
   "outputs": [],
   "source": []
  }
 ],
 "metadata": {
  "kernelspec": {
   "display_name": "Python 3 (ipykernel)",
   "language": "python",
   "name": "python3"
  },
  "language_info": {
   "codemirror_mode": {
    "name": "ipython",
    "version": 3
   },
   "file_extension": ".py",
   "mimetype": "text/x-python",
   "name": "python",
   "nbconvert_exporter": "python",
   "pygments_lexer": "ipython3",
   "version": "3.12.11"
  }
 },
 "nbformat": 4,
 "nbformat_minor": 5
}
